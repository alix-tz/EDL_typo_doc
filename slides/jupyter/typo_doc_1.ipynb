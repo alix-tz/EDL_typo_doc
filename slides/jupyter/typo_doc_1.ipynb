{
 "cells": [
  {
   "cell_type": "markdown",
   "metadata": {
    "slideshow": {
     "slide_type": "slide"
    }
   },
   "source": [
    "# Typologie, formats et outils d'exploitation des documents numériques (1)\n",
    "\n",
    "\n",
    "\n",
    "📌 Ecole du Louvre, Master Documentation et Humanités Numériques, 2020\n",
    "\n",
    "---\n",
    "\n",
    "#### Alix Chagué\n",
    "\n",
    "\n",
    "📫 [alix.chague@inria.fr](mailto:alix.chague@inria.fr)  \n",
    "\n",
    "💼 *Ingénieure Recherche et Développement* @ Inria\n",
    "\n",
    "| | |\n",
    "| :---: | :---: |\n",
    "| ![inria](../../images/inria.png) | ![inria](../../images/edllogo.png) |"
   ]
  },
  {
   "cell_type": "markdown",
   "metadata": {
    "slideshow": {
     "slide_type": "slide"
    }
   },
   "source": [
    "## Objectifs du cours\n",
    "\n",
    "\n",
    "🏆 Comprendre ce qu'est un document sur un ordinateur\n",
    "\n",
    "🏆 Savoir différencier les catégories de fichiers et les standards et formats qui leur sont associés\n",
    "\n",
    "🏆 Savoir différencier \"encodage\" et \"annotation\"\n",
    "\n",
    "🏆 Savoir différencier la mise en forme d'un fichier et sa structuration sémantique\n",
    "\n",
    "🏆 Connaître théoriquement plusieurs modes d'organisation et de mise en forme d'un fichier textuel (XML, Markdown, LaTeX, ...)\n",
    "\n",
    "🏆 Connaître théoriquement plusieurs modes de représentation de données organisées dans un fichier textuel (CSV, JSON)\n",
    "\n",
    "🏆 Savoir comment acquérir et exploiter des données textuelles\n",
    "\n",
    "🏆 Connaître les principaux standards XML et l'environnement technologique associé à ce standard\n"
   ]
  },
  {
   "cell_type": "markdown",
   "metadata": {
    "slideshow": {
     "slide_type": "slide"
    }
   },
   "source": [
    "## Plan du cours\n",
    "\n",
    "- Définition d'un paysage numérique\n",
    "- Encodage numérique\n",
    "- Encodage des données textuelles\n",
    "- Encodage des images numériques\n",
    "- Aparté sur les fichiers PDF\n",
    "- Cycle de vie des documents numériques\n",
    "- Métadonnées"
   ]
  },
  {
   "cell_type": "markdown",
   "metadata": {
    "slideshow": {
     "slide_type": "slide"
    }
   },
   "source": [
    "# Définition d'un paysage numérique"
   ]
  },
  {
   "cell_type": "markdown",
   "metadata": {
    "slideshow": {
     "slide_type": "subslide"
    }
   },
   "source": [
    "## Point terminologie (source : wiktionnaire)\n",
    "\n",
    "- [`informatique`](https://fr.wiktionary.org/wiki/informatique) : Domaine des concepts et autres techniques employées pour le traitement **automatique** de l’**information**.\n",
    "  - Etym. : *(1962) Mot forgé par Philippe Dreyfus ; avalisé par Charles de Gaulle qui, lors d’un Conseil des ministres, trancha entre informatique et ordinatique.*\n",
    "  - En anglais on parle de `IT` ou `Information Technology`\n",
    "\n",
    "\n",
    "- [`digital`](https://fr.wiktionary.org/wiki/digital) :\n",
    "  - (Adjectif 1) Du latin *digitalis*.\n",
    "  - (Adjectif 2) Anglicisme de *digit* (« chiffre, de 0 à 9 en base décimale»), lui-même dérivé de l’habitude de compter sur ses doigts.\n",
    "\n",
    "\n",
    "- [`numérique`](https://fr.wiktionary.org/wiki/num%C3%A9rique) : (Électronique, Informatique) Qualifie la représentation discrète de données ou de grandeurs physiques au moyen de nombres entiers ou d’équivalents ; qualifie aussi les systèmes, dispositifs ou procédés employant ce mode de représentation."
   ]
  },
  {
   "cell_type": "markdown",
   "metadata": {
    "slideshow": {
     "slide_type": "subslide"
    }
   },
   "source": [
    "- [`binaire`](https://fr.wiktionary.org/wiki/binaire) :\n",
    "  - (Mathématiques) Système de numération en base 2 dans lequel on exprime tous les nombres par le seul emploi de deux caractères, l’un désignant l’unité, l’autre indiquant sa place, comme seraient, dans les chiffres arabes, 0 et 1.\n",
    "  - (Par extension) Qui ne comporte que deux éléments ou ne propose que deux options, précisément, strictement et invariablement.\n",
    " \n",
    " \n",
    "- [`électronique`](https://fr.wiktionary.org/wiki/%C3%A9lectronique) : (Par extension) Produit à l’aide d’appareils électroniques."
   ]
  },
  {
   "cell_type": "markdown",
   "metadata": {
    "slideshow": {
     "slide_type": "subslide"
    }
   },
   "source": [
    "## Documents\n",
    "\n",
    "- Un `document physique` existe dans le monde matériel. C'est un contenu inscrit sur un support, lisible immédiatement ou par l'intermédiaire d'un outil d'interprétation.\n",
    "\n",
    "\n",
    "- Un `document numérique` est immatériel. C'est un contenu encodé sous la forme de suites de 0 et de 1, stocké sur un support.\n",
    "\n",
    "\n",
    "- Un document numérique peut être issu d'un processus de `dématérialisation` (une copie numérique d'un document physique) ou être `nativement numérique` (créé sans passer par une représentation physique)\n",
    "  - dans certains contextes, on distingue `document numérisé` et `document numérique`\n",
    "\n",
    "\n",
    "> \"Un document numérique est composé d'un contenu, d'une structure logique, d'attributs de présentation permettant sa représentation par une machine afin de restituer une version intelligible pour l'homme.\"   \n",
    "> *Norme AFNOR NF Z42-013, mars 2009, p. 9.*"
   ]
  },
  {
   "cell_type": "markdown",
   "metadata": {
    "slideshow": {
     "slide_type": "subslide"
    }
   },
   "source": [
    "## Gestionnaires de fichiers\n",
    "\n",
    "![image disque dur -> gestionnaire de fichiers](../../images/dd_fileex.PNg)\n",
    "\n",
    "La représentation des données numériques sous la forme de `fichiers` ou de `dossiers` organisés au sein d'une arborescence est un paradigme apparu en même temps que les [`interfaces graphiques`](https://fr.wikipedia.org/wiki/Interface_graphique) dans les années 1970.\n",
    "\n",
    "Il est fondé sur une analogie qui permet à l'humain de se représenter aisément les données et leur agencement. Mais il ne correspond *stricto sensu* à la manière dont les données sont écrites et organisées sur un [`disque dur`](https://www.commentcamarche.net/contents/740-disque-dur-externe-ou-interne)."
   ]
  },
  {
   "cell_type": "markdown",
   "metadata": {
    "slideshow": {
     "slide_type": "subslide"
    }
   },
   "source": [
    "## Fichier numérique\n",
    "\n",
    "Un `fichier numérique` représente un document numérique. Il possède plusieurs propriétés élémentaires :\n",
    "- un `nom`\n",
    "- un `format` indiqué par son `extension`\n",
    "- une `taille` (ou `poids`)\n",
    "\n",
    "S'y ajoutent des informations sur le contexte et les modalités de sa création. Ce sont des `métadonnées` :\n",
    "- une date de création, de modification\n",
    "- un créateur\n",
    "- etc..."
   ]
  },
  {
   "cell_type": "markdown",
   "metadata": {
    "slideshow": {
     "slide_type": "subslide"
    }
   },
   "source": [
    "## Typologie de fichiers numériques\n",
    "\n",
    "- `texte` : fichiers contenant du texte écrit destiné à être traité par l'ordinateur (ex: un programme informatique) ou par un programme (ex: une page web dans un navigateur) ou lu ou imprimé par l'utilisateur.\n",
    "    - *.txt* *.csv* *.html* *.py*\n",
    "- `multimédia` : fichiers qui peuvent contenir des images, du son ou des vidéos sous une forme exploitable par l'ordinateur.\n",
    "    - image : *.png* *.jpeg* *.gif*\n",
    "    - video : *.mp4* *.avi* *.mov*\n",
    "    - audio : *.mp3* *.wav* *.wma*\n",
    "- `document` : fichiers complexes pouvant mélanger des données textuelles et des données multimédias ; ils résultent généralement de la compression de plusieurs fichiers numériques plus simples.\n",
    "    - *.docx* *.odt* *.pdf*\n",
    "- `exécutables` : fichiers qui peuvent être exécutés par l'ordinateur (des programmes)\n",
    "    - *.exe* *.sh* *.app* *...*\n",
    "- `compressés` : fichiers codés selon un procédé qui les rend plus petits que les fichiers originaux - un programme décompresseur est nécessaire pour retrouver le fichier original.\n",
    "    - *.zip* *.tar* *.rar*"
   ]
  },
  {
   "cell_type": "markdown",
   "metadata": {
    "slideshow": {
     "slide_type": "subslide"
    }
   },
   "source": [
    "## Décompression d'un document\n",
    "\n",
    "![On peut dézipper un fichier ODT DOC ou DOCX](../../images/joconde_wikipedia_article_unzip.png)"
   ]
  },
  {
   "cell_type": "markdown",
   "metadata": {
    "slideshow": {
     "slide_type": "subslide"
    }
   },
   "source": [
    "## Décompression d'un document\n",
    "\n",
    "![On peut dézipper un fichier ODT DOC ou DOCX](../../images/joconde_wikipedia_article_unzipped.png)"
   ]
  },
  {
   "cell_type": "markdown",
   "metadata": {
    "slideshow": {
     "slide_type": "slide"
    }
   },
   "source": [
    "## Encodage numérique"
   ]
  },
  {
   "cell_type": "markdown",
   "metadata": {
    "slideshow": {
     "slide_type": "subslide"
    }
   },
   "source": [
    "💾 L'`encodage` désigne la transformation de données d'un format à un autre.  \n",
    "\n",
    "💾 Le degré zéro de l'encodage numérique, c'est la transformation de données en valeurs binaires qui peuvent être traitées à l'échelle électronique (éteint/allumé). On représente ces états par un `1` ou un `0`.\n",
    "- un `bit` est une instance de 0 ou de 1\n",
    "- un `train de bits` (ou *`byte`*) est un groupe composé d'une suite de bits\n",
    "- un `octet` est un groupe de 8 bits\n",
    "\n",
    "💾 Un fichier représenté par 100 octets est donc plus riche, plus complexe qu'un fichier représenté par 10 octets.\n",
    "\n",
    "💾 On calcule la taille d'un fichier numérique à partir du nombre d'instances de 0 et de 1 nécessaires à sa représentation numérique."
   ]
  },
  {
   "cell_type": "markdown",
   "metadata": {
    "slideshow": {
     "slide_type": "subslide"
    }
   },
   "source": [
    "##  Tout document conservé sur un ordinateur est constitué d'une série de 0 et de 1\n",
    "\n",
    "![encodage binaire d'une image et d'un texte](../../images/endoage_binaire.png)"
   ]
  },
  {
   "cell_type": "markdown",
   "metadata": {
    "slideshow": {
     "slide_type": "subslide"
    }
   },
   "source": [
    "## Mémoire\n",
    "\n",
    "La taille d'un disque dur définit le nombre de bits disponibles pour encoder des informations simultanément.\n",
    "\n",
    "> Par exemple, un disque dur de 50 Go de mémoire :\n",
    "> - est égal à **50 000 000 000 octets** (cinquante milliards)\n",
    "> - est égal à **400 000 000 000 bits** (quatre cents milliards)\n",
    "\n",
    "La taille d'un fichier définit le nombre de bits nécessaire à son encodage.\n",
    "\n",
    "> Par exemple, un fichier d'une taille de 30 Ko :\n",
    "> - nécessite **30 x 1 000 x 8** bits\n",
    "> - contient donc un total de 160 000 instances de 1 ou 0\n"
   ]
  },
  {
   "cell_type": "markdown",
   "metadata": {
    "slideshow": {
     "slide_type": "subslide"
    }
   },
   "source": [
    "## Normes d'encodage\n",
    "\n",
    "🗝️ Les `normes d'encodages` définissent les clefs d'encodage et de décodage des données lorsque l'on passe d'une forme intelligible par l'humain à une forme lisible pour la machine.\n",
    "\n",
    "🗝️ En fonction du type de fichier encodé (texte, image, vidéo, etc.), il existe différents paysages de normes et de modes de représentation."
   ]
  },
  {
   "cell_type": "markdown",
   "metadata": {
    "slideshow": {
     "slide_type": "slide"
    }
   },
   "source": [
    "# Encodage des données textuelles"
   ]
  },
  {
   "cell_type": "markdown",
   "metadata": {
    "slideshow": {
     "slide_type": "slide"
    }
   },
   "source": [
    "🅰️ Un document numérique textuel contient... du texte. C'est-à-dire, une suite de caractères alphanumériques et de symboles.\n",
    "\n",
    "🅰️ La norme d'encodage d'un texte définit une table de correspondance qui permet de passer d'un groupe de bits à un caractère alphanumérique ou un symbole.\n",
    "\n",
    "🅰️ La norme d'encodage utilisée pour un texte définit donc la liste des caractères disponibles (`character set`).\n",
    "\n",
    "🅰️ En fonction de la norme, un seul caractère peut être représenté par un ou plusieurs octets.\n",
    "\n",
    "🅰️ Les normes les plus connues pour des textes en français sont :\n",
    "  - `ASCII` (1963)\n",
    "  - `ISO 8859-1` (1986)\n",
    "  - `UTF-8` (1996)"
   ]
  },
  {
   "cell_type": "markdown",
   "metadata": {
    "slideshow": {
     "slide_type": "subslide"
    }
   },
   "source": [
    "## ASCII\n",
    "\n",
    "🅰️ [*American Standard Code for Information Interchange*](https://fr.wikipedia.org/wiki/American_Standard_Code_for_Information_Interchange)\n",
    "\n",
    "🅰️ Chaque caractère est représenté par 7 bits empaquetés dans 1 octet\n",
    "\n",
    "🅰️ Le jeu de caractères est composé de 95 éléments (pas de caractères accentués) : \n",
    "```\n",
    " !\"#$%&'()*+,-./\n",
    "0123456789:;<=>?\n",
    "@ABCDEFGHIJKLMNO\n",
    "PQRSTUVWXYZ[\\]^_\n",
    "`abcdefghijklmno\n",
    "pqrstuvwxyz{|}~\n",
    "```\n",
    "\n",
    "🅰️ *Exemple* : `A` = `01000001`"
   ]
  },
  {
   "cell_type": "markdown",
   "metadata": {
    "slideshow": {
     "slide_type": "subslide"
    }
   },
   "source": [
    "## ISO 8859-1\n",
    "\n",
    "🅰️ Elle est souvent appelée [`Latin1`](https://fr.wikipedia.org/wiki/ISO/CEI_8859-1) mais aussi ***Western Europe***\n",
    "\n",
    "🅰️ Chaque caractère est représenté par 8 bits\n",
    "\n",
    "🅰️ ISO 8859-1 est rétrocompatible avec ASCII. Le jeu de caractères est composé de 191 éléments : les 95 caractères de la norme ASCII + des symboles et des caractères accentués : \n",
    "\n",
    "```\n",
    "\n",
    " !\"#$%&'()*+,-./    ¡¢£¤¥¦§¨©ª«¬-®¯\n",
    "0123456789:;<=>?   °±²³´µ¶·¸¹º»¼½¾¿\n",
    "@ABCDEFGHIJKLMNO   ÀÁÂÃÄÅÆÇÈÉÊËÌÍÎÏ\n",
    "PQRSTUVWXYZ[\\]^_   ÐÑÒÓÔÕÖ×ØÙÚÛÜÝÞß\n",
    "`abcdefghijklmno   àáâãäåæçèéêëìíîï\n",
    "pqrstuvwxyz{|}~    ðñòóôõö÷øùúûüýþÿ\n",
    "```\n",
    "\n",
    "🅰️ *Exemple:* `é` = `11101001`\n"
   ]
  },
  {
   "cell_type": "markdown",
   "metadata": {
    "slideshow": {
     "slide_type": "subslide"
    }
   },
   "source": [
    "## UTF-8\n",
    "\n",
    "🅰️ *[Universal Character Set Transformation Format](https://fr.wikipedia.org/wiki/UTF-8)* + base d'encodage (8, 16, 32, ...)\n",
    "\n",
    "🅰️ En fonction de la base d'encodage, un caractère peut être représenté par 1, 2, 3 ou 4 octets.\n",
    "\n",
    "🅰️ UTF est rétrocompatible avec ASCII, mais pas avec ISO 8859-1. Il s'inscrit dans le cadre établi par [`Unicode`](https://fr.wikipedia.org/wiki/Unicode) qui vise à faciliter l'échange de textes numériques en assurant leur compatibilité.\n",
    "\n",
    "🅰️ Unicode définit plus de 137 000 caractères, issus de multiples alphabets, et prévoit aussi des symboles comme les emojis.\n",
    "\n",
    "🅰️ *Exemple* : 🤓 = `11110000 10011111 10100100 10010011`"
   ]
  },
  {
   "cell_type": "markdown",
   "metadata": {
    "slideshow": {
     "slide_type": "subslide"
    }
   },
   "source": [
    "## Mauvais encodage/décodage\n",
    "\n",
    "Si on n'utilise pas la bonne clef d'encodage ou de décodage d'un texte, on risque d'obtenir un texte partiellement ou entièrement illisible.\n",
    "\n",
    "UTF-8 ouvert avec 8859-1 (Latin 1)\n",
    "```\n",
    "La Joconde, ou Portrait de Mona Lisa, est un tableau de l'artiste LÃ©onard de Vinci, rÃ©alisÃ© entre 1503 et 1506 ou entre 1513 et 15161,2, et peut-Ãªtre jusqu'Ã  1519 (l'artiste Ã©tant mort cette annÃ©e-lÃ , le 2 mai)3, qui reprÃ©sente un portrait mi-corps, probablement celui de la Florentine Lisa Gherardini, Ã©pouse de Francesco del Giocondo. Acquise par FranÃ§ois Ier, cette peinture Ã  l'huile sur panneau de bois de peuplier de 77 Ã 53 cm est exposÃ©e au musÃ©e du Louvre Ã  Paris. La Joconde est l'un des rares tableaux attribuÃ©s de faÃ§on certaine Ã  LÃ©onard de Vinci.\n",
    "```\n",
    "\n",
    "UTF-8 ouvert avec ISO 8859-5 (Cyrillic)\n",
    "```\n",
    "La Joconde, ou Portrait de Mona Lisa, est un tableau de l'artiste LУЉonard de Vinci, rУЉalisУЉ entre 1503 et 1506 ou entre 1513 et 15161,2, et peut-УЊtre jusqu'У  1519 (l'artiste УЉtant mort cette annУЉe-lУ , le 2 mai)3, qui reprУЉsente un portrait mi-corps, probablement celui de la Florentine Lisa Gherardini, УЉpouse de Francesco del Giocondo. Acquise par FranУЇois Ier, cette peinture У  l'huile sur panneau de bois de peuplier de 77 У 53 cm est exposУЉe au musУЉe du Louvre У  Paris. La Joconde est l'un des rares tableaux attribuУЉs de faУЇon certaine У  LУЉonard de Vinci.\n",
    "```"
   ]
  },
  {
   "cell_type": "markdown",
   "metadata": {
    "slideshow": {
     "slide_type": "subslide"
    }
   },
   "source": [
    "## UTF est désormais la norme\n",
    "\n",
    "![diagramme montrant qu'UTF s'impose sur les autres normes depuis 2006](../../images/encoding_trends.Png)"
   ]
  },
  {
   "cell_type": "markdown",
   "metadata": {
    "slideshow": {
     "slide_type": "subslide"
    }
   },
   "source": [
    "## Texte brut, texte enrichi\n",
    "\n",
    "🔤 Un texte est aussi caractérisé par des éléments de présentation (ou de mise en forme).\n",
    "\n",
    "🔤 On parle de `texte brut` (ou `plain text`) pour désigner un texte dépourvu d'information de mise en forme et qui se limite à l'affichage de la traduction des données binaires en caractères alphanumériques et symboles.\n",
    "\n",
    "🔤 On parle de `texte enrichi` (ou `rich text`) pour désigner un texte qui comporte des éléments de mise en forme, que ces éléments soient ou non affichés dans l'interface graphique.\n",
    "\n",
    "🔤 Un éditeur `WYSIWYG` (*What You See Is What You Get*) présente un texte enrichi **avec** sa mise en forme, de manière simultanée\n",
    "\n",
    "🔤 Certains éditeurs présentent au contraire le texte sans interpréter sa mise en forme, en affichant les annotations de mise en forme. On parle alors d'éditeur `WYSIWYM` (*What You See Is What You Mean*)"
   ]
  },
  {
   "cell_type": "markdown",
   "metadata": {
    "slideshow": {
     "slide_type": "subslide"
    }
   },
   "source": [
    "\n",
    "🔤 S'il est possible d'afficher un texte enrichi avec ou sans mise en forme, c'est que ces indications sont interprétées par l'ordinateur (on dit `parser`) lors de l'affichage du texte. C'est le logiciel ou les paramètres fixés par l'utilisateur qui déterminent si le texte est affiché en mode WYSIWYG ou WYSIWYM.\n",
    "\n",
    "🔤 Il existe une multitude de manières de représenter les informations de mise en forme du texte. Elles sont étroitement liées au format du document et au standard qu'il suit. \n",
    "\n",
    "- Ex : Texte brut  --  texte enrichi interprété -- texte annoté en **XML**, texte annoté en **Markdown**, texte annoté en **LaTeX**.\n",
    "\n",
    "![texte brut, texte enrichi dans un éditeur WYSIWYG, différents modes d'annotation pour un texte enrichi dans un éditeur WYSIWYM](../../images/texte_brut_enrichi.png)\n"
   ]
  },
  {
   "cell_type": "markdown",
   "metadata": {
    "slideshow": {
     "slide_type": "subslide"
    }
   },
   "source": [
    "🔤 L'extension d'un fichier texte indique à l'utilisateur ***et*** à l'ordinateur quel est son format, c'est-à-dire avec quel logiciel il faut l'ouvrir ou s'il contient ou non des informations de mise en page qu'il faut interpréter.\n",
    "\n",
    "🔤 On peut donc classer les fichiers en deux catégories en fonction de leurs extensions : \n",
    "  - [`.txt`](https://fr.wikipedia.org/wiki/Fichier_texte) : texte brut\n",
    "  - [`.doc`](https://fr.wikipedia.org/wiki/Doc_(informatique)), [`.docx`](https://fr.wikipedia.org/wiki/Docx), [`.rtf`](https://fr.wikipedia.org/wiki/Rich_Text_Format), [`.tex`](https://fr.wikipedia.org/wiki/LaTeX), [`.md`](https://fr.wikipedia.org/wiki/Markdown), [`epub`](https://fr.wikipedia.org/wiki/EPUB_(format)) etc. : texte enrichi\n"
   ]
  },
  {
   "cell_type": "markdown",
   "metadata": {
    "slideshow": {
     "slide_type": "subslide"
    }
   },
   "source": [
    "## En résumé\n",
    "\n",
    "📝 Un document numérique qui contient du texte est enregistré par l'ordinateur comme une suite de 0 et de 1 ;\n",
    "\n",
    "📝 Lorsqu'on affiche le contenu du document, cette suite de 0 et de 1 est décodée en suivant un standard (norme d'encodage), les 0 et le 1 sont transformés en caractères alphanumériques et en symboles ;\n",
    "\n",
    "📝 En fonction du format du document et du logiciel utilisé, le document peut aussi contenir des informations relatives à la mise en page du texte, celles-ci peuvent être interprétées pour modifier l'apparence des caractères alphanumériques et symboles affichés à l'écran."
   ]
  },
  {
   "cell_type": "markdown",
   "metadata": {
    "slideshow": {
     "slide_type": "slide"
    }
   },
   "source": [
    "# Encodage des images numériques"
   ]
  },
  {
   "cell_type": "markdown",
   "metadata": {
    "slideshow": {
     "slide_type": "subslide"
    }
   },
   "source": [
    "📷 Il existe deux grandes catégories d'images : \n",
    "\n",
    "- les `images matricielles`;\n",
    "\n",
    "- les `images vectorielles`.\n",
    "\n",
    "![Photoshop et GIMP créent des images matricielles, Illustrator et Inkscape des images vectorielles](../../images/bitmap_vs_vector.png)"
   ]
  },
  {
   "cell_type": "markdown",
   "metadata": {
    "slideshow": {
     "slide_type": "subslide"
    }
   },
   "source": [
    "## Images matricielles\n",
    "\n",
    "📷 Les images matricielles (ou `bitmap`) sont des tableaux de points à 2 dimensions (hauteur, largeur)\n",
    "\n",
    "📷 La `définition` d'une image indique les dimensions de sa matrice. Une image de dimensions \"32 x 21\" est donc un tableau de 32 colonnes (largeur) et 21 lignes (hauteur). L'image est représentée par 672 cases.\n",
    "\n",
    "📷 Chaque case est un pixel. Il possède des coordonnées et contient des informations comme sur sa couleur.\n",
    "\n",
    "📷 La `résolution` d'une image est directement liée à sa définition et indique simplement la taille de l'image lorsqu'elle est représentée dans des dimensions matérielles. L'unité de mesure de la résolution dépend de l'unité de mesure matérielle : il est commun, même en Europe, d'exprimer la résolution d'une image en `DPI` (*dot per inch*), qui indique le nombre de pixels utilisé pour représenter un pouce (2,54 cm).\n",
    "\n",
    "📷 La taille d'un fichier image ne dépend pas uniquement du nombre de pixels qui la compose mais aussi de la quantité d'informations contenues dans un pixel.\n"
   ]
  },
  {
   "cell_type": "markdown",
   "metadata": {
    "slideshow": {
     "slide_type": "subslide"
    }
   },
   "source": [
    "## Images matricielles et encodage de la couleur\n",
    "\n",
    "> L'[encodage de la couleur dans les systèmes informatiques](https://fr.wikipedia.org/wiki/Codage_informatique_des_couleurs) pourrait faire l'objet d'un cours à part entière.\n",
    "\n",
    "🌈 Les principaux modes de représentation d'une image colorée (ou non) sont le `mode binaire` (où il n'existe que deux \"couleurs\" : noir ou blanc), le `niveau de gris` (où l'intensité du noir est située entre 0 et 255\\*), le `mode RGB` (qui repose sur la synthèse que trois couches monochromes contenant des valeurs d'intensité situées entre 0 et 255\\*).\n",
    "\n",
    "🌈 Une image en mode RGB est donc composée de l'assemblage de 3 matrices.\n",
    "\n",
    "\\* 0-255 quand la valeur est enregistrée sur 1 octet."
   ]
  },
  {
   "cell_type": "markdown",
   "metadata": {
    "slideshow": {
     "slide_type": "subslide"
    }
   },
   "source": [
    "![schema pour 2 modes d'images : binaire, grayscale, rgb](../../images/mode_images.png)"
   ]
  },
  {
   "cell_type": "markdown",
   "metadata": {
    "slideshow": {
     "slide_type": "subslide"
    }
   },
   "source": [
    "🌈 Un pixel contient la valeur d'intensité des points situés aux même coordonnées sur chaque couche de couleur.\n",
    "\n",
    "![exemple des dimensions d'un pixel en mode binaire, niveaux de gris, rgb, rgba et cmjn](../../images/mode_couleur.png)"
   ]
  },
  {
   "cell_type": "markdown",
   "metadata": {
    "slideshow": {
     "slide_type": "subslide"
    }
   },
   "source": [
    "On peut utiliser un programme Python pour afficher les valeurs contenues dans chaque pixel."
   ]
  },
  {
   "cell_type": "markdown",
   "metadata": {
    "slideshow": {
     "slide_type": "-"
    }
   },
   "source": [
    "| ![images](../../images/322px-Mona_Lisa_pixels.png) | ![images](../../images/322px-Mona_Lisa_pixels_Rgs.png) | ![images](../../images/322px-Mona_Lisa_pixels_bin152_small.png) |\n",
    "| :----: | :----: | :----: |\n",
    "| 1 | 2 | 3 |"
   ]
  },
  {
   "cell_type": "code",
   "execution_count": 34,
   "metadata": {
    "slideshow": {
     "slide_type": "skip"
    }
   },
   "outputs": [],
   "source": [
    "def image_as_a_list_of_pixel_values(my_image=0):\n",
    "    from PIL import Image\n",
    "    \n",
    "    if my_image == 1:\n",
    "        ze_image = \"../../images/322px-Mona_Lisa_pixels.png\"\n",
    "        mode = \"RGB\"\n",
    "    elif my_image == 2:\n",
    "        ze_image = \"../../images/322px-Mona_Lisa_pixels_Rgs.png\"\n",
    "        mode = \"Gray scale\"\n",
    "    elif my_image == 3:\n",
    "        ze_image = \"../../images/322px-Mona_Lisa_pixels_bin152_small.png\"\n",
    "        mode = \"Binaire\"\n",
    "    else: \n",
    "        ze_image = my_image\n",
    "        mode = \"{mode}\"\n",
    "\n",
    "    im = Image.open(ze_image)\n",
    "    \n",
    "    pixels = im.load() # this is not a list, nor is it list()'able\n",
    "    width, height = im.size\n",
    "    all_pixels = []\n",
    "    for x in range(width):\n",
    "        for y in range(height):\n",
    "            cpixel = pixels[x, y]\n",
    "            all_pixels.append(cpixel)\n",
    "    print(f\"Image {my_image} (mode : {mode})\" , all_pixels[:5], \"\", sep=\"\\n\")\n",
    "    return "
   ]
  },
  {
   "cell_type": "code",
   "execution_count": 39,
   "metadata": {
    "slideshow": {
     "slide_type": "-"
    }
   },
   "outputs": [
    {
     "name": "stdout",
     "output_type": "stream",
     "text": [
      "Image 1 (mode : RGB)\n",
      "[(214, 168, 82), (212, 166, 80), (210, 162, 77), (204, 156, 71), (211, 163, 78)]\n",
      "\n"
     ]
    }
   ],
   "source": [
    "image_as_a_list_of_pixel_values(1)"
   ]
  },
  {
   "cell_type": "code",
   "execution_count": 40,
   "metadata": {},
   "outputs": [
    {
     "name": "stdout",
     "output_type": "stream",
     "text": [
      "Image 2 (mode : Gray scale)\n",
      "[(214, 255), (212, 255), (210, 255), (204, 255), (211, 255)]\n",
      "\n"
     ]
    }
   ],
   "source": [
    "image_as_a_list_of_pixel_values(2)"
   ]
  },
  {
   "cell_type": "code",
   "execution_count": 41,
   "metadata": {},
   "outputs": [
    {
     "name": "stdout",
     "output_type": "stream",
     "text": [
      "Image 3 (mode : Binaire)\n",
      "[255, 255, 255, 255, 255]\n",
      "\n"
     ]
    }
   ],
   "source": [
    "image_as_a_list_of_pixel_values(3)"
   ]
  },
  {
   "cell_type": "markdown",
   "metadata": {
    "slideshow": {
     "slide_type": "subslide"
    }
   },
   "source": [
    "## Le poids des images\n",
    "\n",
    "⚖️ Le poids d'un fichier d'image matricielle dépend de la définition de l'image (nombre de pixels) mais aussi du mode de gestion des couleurs (nombre de couches de couleur)\n",
    "\n",
    "![comparaison du poids d'une même image en RGB et en grayscale](../../images/canaux_poids.png)\n"
   ]
  },
  {
   "cell_type": "markdown",
   "metadata": {
    "slideshow": {
     "slide_type": "subslide"
    }
   },
   "source": [
    "## Le poids des formats\n",
    "\n",
    "⚖️ In fine, le poids d'un fichier d'image matricielle dépend aussi du format utilisé pour sa sauvegarde.\n",
    "\n",
    "⚖️ Il existe des formats compressés qui visent à réduire la taille de l'image simplifiant l'expression des informations nécessaires à la représentation de l'image, essentiellement selon deux principes :\n",
    "  - certains éléments se répètent dans une image, on a donc intérêt à les représenter avec des raccourcis (à l'échelle des octets)\n",
    "  - on peut compter sur le cerveau humain pour compléter une partie des informations, on peut donc dégrader les informations non essentielles\n",
    " \n",
    " \n",
    "![comparaison du poids d'une même image en JPEG et en PNG](../../images/formats_poids.png)\n",
    "\n",
    "\n"
   ]
  },
  {
   "cell_type": "markdown",
   "metadata": {
    "slideshow": {
     "slide_type": "subslide"
    }
   },
   "source": [
    "## Formats d'images matricielles\n",
    "\n",
    "![tableau récapitulatif des formats de fichiers images](../../images/typologie_de_fichiers_image.png)"
   ]
  },
  {
   "cell_type": "markdown",
   "metadata": {
    "slideshow": {
     "slide_type": "subslide"
    }
   },
   "source": [
    "\n",
    "## Images vectorielles\n",
    "\n",
    "\n",
    "🧬 Contrairement à une image matricielle, une image vectorielle n'est pas constituée de pixels, elle est constituée... de texte.\n",
    "\n",
    "🧬 Elle est composée d'objets simples (segments, polygones, courbes de Béziers) chacun défini par des propriétés telles que leur position (x,y et z), leur couleur de contour et de remplissage, leur angle d'orientation, etc.. On peut modifier individuellement chacun de ces objets sans affecter l'ensemble.\n",
    "\n",
    "🧬 Il est possible d'animer une image vectorielle car les attributs d'un objet vectoriel peuvent être affectés par une variable de temps.\n",
    "\n",
    "🧬 Une image vectorielle n'a pas de résolution : celle-ci est définie uniquement si l'on transforme l'image vectorielle en image matricielle.\n",
    "\n",
    "🧬 Le format d'images vectorielles le plus commun est [`SVG`](https://fr.wikipedia.org/wiki/Scalable_Vector_Graphics) (*Scalable Vector Graphics*).\n",
    "\n",
    "🧬 On peut ouvrir une image vectorielle avec un éditeur d'image (comme Illustrator ou Inkscape) ou avec un éditeur de texte."
   ]
  },
  {
   "cell_type": "markdown",
   "metadata": {
    "slideshow": {
     "slide_type": "subslide"
    }
   },
   "source": [
    "## Une image dans un fichier texte\n",
    "\n",
    "On peut ouvrir une image vectorielle avec un éditeur de texte ou un éditeur d'image, on ne peut ouvrir une image matricielle qu'avec un éditeur d'image\n",
    "\n",
    "![Opening a bitmap and an svg with a text editor](../../images/try_open_with_editor.png)"
   ]
  },
  {
   "cell_type": "markdown",
   "metadata": {
    "slideshow": {
     "slide_type": "subslide"
    }
   },
   "source": [
    "## En résumé\n",
    "\n",
    "📝 Une image numérique peut être représentée par un fichier de texte (vectorielle) ou par une grille ou plusieurs grilles de valeurs qui déterminent l'intensité d'une couleur (matricielle) ;\n",
    "\n",
    "📝 Les concepts de résolution, de définition et de pixels n'ont de sens que dans le cadre d'une image matricielle. Si une image vectorielle a une résolution, c'est qu'on est en train de la transformer en image matricielle.\n",
    "\n",
    "📝 La taille d'un fichier contenant une image matricielle varie en fonction du nombre de pixels qui la composent, de la quantité d'informations contenues dans chaque pixel, mais aussi en fonction du format de sauvegarde utilisé.\n"
   ]
  },
  {
   "cell_type": "markdown",
   "metadata": {
    "slideshow": {
     "slide_type": "slide"
    }
   },
   "source": [
    "# Aparté sur les fichiers PDF\n",
    "\n",
    "📽️ PDFScripting, *What is a PDF* (2017)\n",
    "\n",
    "➡️ https://www.youtube.com/watch?v=GqEH8XvPZwM"
   ]
  },
  {
   "cell_type": "markdown",
   "metadata": {
    "slideshow": {
     "slide_type": "slide"
    }
   },
   "source": [
    "# Cycle de vie des documents numériques"
   ]
  },
  {
   "cell_type": "markdown",
   "metadata": {
    "slideshow": {
     "slide_type": "slide"
    }
   },
   "source": [
    "# Métadonnées\n",
    "\n",
    "Quelques standards de métadonnées + pourquoi utiliser des standards"
   ]
  },
  {
   "cell_type": "markdown",
   "metadata": {},
   "source": []
  }
 ],
 "metadata": {
  "celltoolbar": "Diaporama",
  "kernelspec": {
   "display_name": "Python 3",
   "language": "python",
   "name": "python3"
  },
  "language_info": {
   "codemirror_mode": {
    "name": "ipython",
    "version": 3
   },
   "file_extension": ".py",
   "mimetype": "text/x-python",
   "name": "python",
   "nbconvert_exporter": "python",
   "pygments_lexer": "ipython3",
   "version": "3.8.3"
  }
 },
 "nbformat": 4,
 "nbformat_minor": 4
}
