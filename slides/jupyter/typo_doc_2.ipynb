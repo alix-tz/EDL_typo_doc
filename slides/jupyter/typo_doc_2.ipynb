{
 "cells": [
  {
   "cell_type": "markdown",
   "metadata": {},
   "source": [
    "# Typologie, formats et outils d'exploitation des documents numériques (2)\n",
    "\n",
    "\n",
    "\n",
    "📌 Ecole du Louvre, Master Documentation et Humanités Numériques, 2020\n",
    "\n",
    "---\n",
    "\n",
    "#### Alix Chagué\n",
    "\n",
    "\n",
    "📫 [alix.chague@inria.fr](mailto:alix.chague@inria.fr)  \n",
    "\n",
    "💼 *Ingénieure Recherche et Développement* @ Inria\n",
    "\n",
    "| | |\n",
    "| :---: | :---: |\n",
    "| ![inria](../../images/inria.png) | ![inria](../../images/edllogo.png) |"
   ]
  },
  {
   "cell_type": "markdown",
   "metadata": {
    "slideshow": {
     "slide_type": "subslide"
    }
   },
   "source": [
    "## *Crédits*\n",
    "\n",
    "> une partie du contenu de ces slides est librement inspirée des supports de cours de Johanna Daniel\n",
    "\n",
    "> une partie du contenu de ces slides est librement inspirée des supports de Laurent Romary, \"A general introduction to the Text Encoding Initiative (TEI)\"\n",
    "\n",
    "\n",
    "> Retrouver l'ensemble du cours sur 👉 [github.com/alix-tz/EDL_typo_doc](https://github.com/alix-tz/EDL_typo_doc) \n",
    "\n"
   ]
  },
  {
   "cell_type": "markdown",
   "metadata": {
    "slideshow": {
     "slide_type": "slide"
    }
   },
   "source": [
    "## Objectifs du cours\n",
    "\n",
    "\n",
    "🏆 Comprendre ce qu'est un document sur un ordinateur\n",
    "\n",
    "🏆 Savoir différencier les catégories de fichiers et les standards et formats qui leur sont associés\n",
    "\n",
    "🏆 Savoir différencier \"encodage\" et \"annotation\"\n",
    "\n",
    "🏆 Savoir différencier la mise en forme d'un fichier et sa structuration sémantique\n",
    "\n",
    "🏆 Connaître théoriquement plusieurs modes d'organisation et de mise en forme d'un fichier textuel (XML, Markdown, LaTeX, ...)\n",
    "\n",
    "🏆 Connaître théoriquement plusieurs modes de représentation de données organisées dans un fichier textuel (CSV, JSON)\n",
    "\n",
    "🏆 Savoir comment acquérir et exploiter des données textuelles\n",
    "\n",
    "🏆 Connaître les principaux standards XML et l'environnement technologique associé à ce standard\n"
   ]
  },
  {
   "cell_type": "markdown",
   "metadata": {
    "slideshow": {
     "slide_type": "slide"
    }
   },
   "source": [
    "## Plan du cours\n",
    "\n",
    "- Acquisition de données textuelles\n",
    "- Structuration d'un document numérique\n",
    "- Expressions régulières\n",
    "- XML et ses standards\n",
    "- XML EAD\n",
    "- XML TEI"
   ]
  },
  {
   "cell_type": "markdown",
   "metadata": {
    "slideshow": {
     "slide_type": "slide"
    }
   },
   "source": [
    "# Acquisition de données textuelles"
   ]
  },
  {
   "cell_type": "markdown",
   "metadata": {
    "slideshow": {
     "slide_type": "subslide"
    }
   },
   "source": [
    "\n",
    "- Transcrire automatiquement un document numérisé \n",
    "\n",
    "- HTR et OCR définition et fonctionnement\n",
    "\n",
    "- Pré-traitement : condition de réussite\n",
    "\n",
    "- Post-traitement : adapter ses exigences"
   ]
  },
  {
   "cell_type": "markdown",
   "metadata": {
    "slideshow": {
     "slide_type": "subslide"
    }
   },
   "source": [
    "## Technologies autour des données textuelles\n",
    "\n",
    "NER, TAL "
   ]
  },
  {
   "cell_type": "markdown",
   "metadata": {
    "slideshow": {
     "slide_type": "slide"
    }
   },
   "source": [
    "# Expressions régulières"
   ]
  },
  {
   "cell_type": "markdown",
   "metadata": {
    "slideshow": {
     "slide_type": "subslide"
    }
   },
   "source": [
    "- Pourquoi faire ? Traiter du texte intelligemment \n",
    "\n",
    "- regex101 https://regex101.com/\n",
    "\n",
    "- regexr https://regexr.com/\n",
    "\n",
    "- MF Word et son implémentation spécifique : https://fr.officetooltips.com/word_2016/tips/utilisation_de_caracteres_generiques_pour_rechercher.html (aka les caractères génériques)\n",
    "\n",
    "- https://programminghistorian.org/fr/lecons/comprendre-les-expressions-regulieres"
   ]
  },
  {
   "cell_type": "markdown",
   "metadata": {
    "slideshow": {
     "slide_type": "slide"
    }
   },
   "source": [
    "# Structuration d'un document numérique"
   ]
  },
  {
   "cell_type": "markdown",
   "metadata": {
    "slideshow": {
     "slide_type": "subslide"
    }
   },
   "source": [
    "Faire valoir le fond plutôt que la forme : meilleure manière de garantir la réutilisabilité d'un fichier\n",
    "\n",
    "Utilisation des mal-nommés STYLES dans Word\n",
    "\n",
    "LaTeX, Markdown et HTML, quelques principes"
   ]
  },
  {
   "cell_type": "markdown",
   "metadata": {
    "slideshow": {
     "slide_type": "slide"
    }
   },
   "source": [
    "# XML et ses standards"
   ]
  },
  {
   "cell_type": "markdown",
   "metadata": {
    "slideshow": {
     "slide_type": "subslide"
    }
   },
   "source": [
    "XML EAD et XML TEI\n",
    "\n",
    "Mais aussi XSLT\n",
    "\n",
    "XML est une base de données et pas uniquement une manière d'ajouter des informations dans un texte\n",
    "\n",
    "Qui utilise XML ?"
   ]
  }
 ],
 "metadata": {
  "celltoolbar": "Diaporama",
  "kernelspec": {
   "display_name": "Python 3",
   "language": "python",
   "name": "python3"
  },
  "language_info": {
   "codemirror_mode": {
    "name": "ipython",
    "version": 3
   },
   "file_extension": ".py",
   "mimetype": "text/x-python",
   "name": "python",
   "nbconvert_exporter": "python",
   "pygments_lexer": "ipython3",
   "version": "3.8.3"
  }
 },
 "nbformat": 4,
 "nbformat_minor": 4
}
