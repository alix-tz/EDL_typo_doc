{
 "cells": [
  {
   "cell_type": "markdown",
   "metadata": {
    "slideshow": {
     "slide_type": "slide"
    }
   },
   "source": [
    "# Typologie, formats et outils d'exploitation des documents numériques (2)\n",
    "\n",
    "\n",
    "\n",
    "📌 Ecole du Louvre, Master Documentation et Humanités Numériques, 2020\n",
    "\n",
    "---\n",
    "\n",
    "#### Alix Chagué\n",
    "\n",
    "\n",
    "📫 [alix.chague@inria.fr](mailto:alix.chague@inria.fr)  \n",
    "\n",
    "💼 *Ingénieure Recherche et Développement* @ Inria\n",
    "\n",
    "| | |\n",
    "| :---: | :---: |\n",
    "| ![inria](../../images/inria.png) | ![inria](../../images/edllogo.png) |"
   ]
  },
  {
   "cell_type": "markdown",
   "metadata": {
    "slideshow": {
     "slide_type": "subslide"
    }
   },
   "source": [
    "## *Crédits*\n",
    "\n",
    "> une partie du contenu de ces slides est librement inspirée des supports de cours de Johanna Daniel\n",
    "\n",
    "> une partie du contenu de ces slides est librement inspirée des supports de Laurent Romary, \"A general introduction to the Text Encoding Initiative (TEI)\"\n",
    "\n",
    "\n",
    "> Retrouver l'ensemble du cours sur 👉 [github.com/alix-tz/EDL_typo_doc](https://github.com/alix-tz/EDL_typo_doc) \n",
    "\n"
   ]
  },
  {
   "cell_type": "markdown",
   "metadata": {
    "slideshow": {
     "slide_type": "slide"
    }
   },
   "source": [
    "## Objectifs du cours\n",
    "\n",
    "\n",
    "🏆 Comprendre ce qu'est un document sur un ordinateur\n",
    "\n",
    "🏆 Savoir différencier les catégories de fichiers et les standards et formats qui leur sont associés\n",
    "\n",
    "🏆 Savoir différencier \"encodage\" et \"annotation\"\n",
    "\n",
    "🏆 Savoir différencier la mise en forme d'un fichier et sa structuration sémantique\n",
    "\n",
    "🏆 Connaître théoriquement plusieurs modes d'organisation et de mise en forme d'un fichier textuel (XML, Markdown, LaTeX, ...)\n",
    "\n",
    "🏆 Connaître théoriquement plusieurs modes de représentation de données organisées dans un fichier textuel (CSV, JSON)\n",
    "\n",
    "🏆 Savoir comment acquérir et exploiter des données textuelles\n",
    "\n",
    "🏆 Connaître les principaux standards XML et l'environnement technologique associé à ce standard\n"
   ]
  },
  {
   "cell_type": "markdown",
   "metadata": {
    "slideshow": {
     "slide_type": "slide"
    }
   },
   "source": [
    "## Plan du cours\n",
    "\n",
    "- Acquisition de données textuelles\n",
    "- Aparté sur les expressions régulières\n",
    "- Structuration d'un document numérique\n",
    "- XML et ses standards\n",
    "    - XML EAD\n",
    "    - XML TEI"
   ]
  },
  {
   "cell_type": "markdown",
   "metadata": {
    "slideshow": {
     "slide_type": "slide"
    }
   },
   "source": [
    "# Acquisition de données textuelles"
   ]
  },
  {
   "cell_type": "markdown",
   "metadata": {
    "slideshow": {
     "slide_type": "subslide"
    }
   },
   "source": [
    "## Quelques méthodes d'acquisition de données textuelles\n",
    "\n",
    "L'acquisition de données textuelles est opérée par plusieurs moyens, par exemple : \n",
    "\n",
    "- saisie manuelle ou génération automatique de texte dans un document ;\n",
    "\n",
    "\n",
    "- récupération de données textuelles enregistrées dans une base de données ;\n",
    "\n",
    "\n",
    "- *web scrapping* ou extraction de contenus web ;\n",
    "\n",
    "\n",
    "- transcription d'un fichier multimédia par l'analyse et l'interprétation de son contenu ;"
   ]
  },
  {
   "cell_type": "markdown",
   "metadata": {
    "slideshow": {
     "slide_type": "subslide"
    }
   },
   "source": [
    "## Du fichier multimédia au fichier texte\n",
    "\n",
    "Il s'agit d'utiliser des technologies d'interprétation des signaux contenus dans les fichiers multimédias (image, audio, ou même vidéo) pour interpréter la manière dont ils doivent être représentés dans un fichier texte.\n",
    "\n",
    "\n",
    "Aujourd'hui, la plupart de ces techniques reposent sur de l'`apprentissage automatique` (ou *machine learning*).\n",
    "\n",
    "\n",
    "Il peut s'agir de transcrire littéralement un contenu verbal écrit ou prononcé :\n",
    "\n",
    "- reconnaissance vocale automatique (*`speech to text`*)\n",
    "\n",
    "- reconnaissance automatique d'écriture (*`optical character recognition`*)\n",
    "\n",
    "\n",
    "Mais il peut aussi s'agir de générer un texte qui décrit le contenu d'une image, d'une vidéo, d'un extrait sonore (*`automatic image/video/sound annotation`*) ou encore d'un autre texte (*`text simplification`*).\n"
   ]
  },
  {
   "cell_type": "markdown",
   "metadata": {
    "slideshow": {
     "slide_type": "subslide"
    }
   },
   "source": [
    "## Aparté sur l'apprentissage automatique : procédé\n",
    "\n",
    "Prenons deux situations :\n",
    "\n",
    "1. On doit prendre en charge l'entraînement d'un modèle *ex nihilo* :\n",
    "    - Commencer par produire des exemples de résultats attendus : \"données d'entraînement\" ou \"vérité-terrain\" (*ground truth*) ;\n",
    "    - Puis entraîner un ou plusieurs modèles jusqu'à atteindre les performances voulues (taux d'erreur bas) ;\n",
    "        - *il faut parfois augmenter la quantité de vérité-terrain ;*\n",
    "        - *il faut plusieurs allers-retours entre les entraînements et les données pour **tester** les modèles.*\n",
    "\n",
    "\n",
    "2. Le logiciel utilisé dispose déjà de modèles adaptés aux données à traiter\n",
    "    - Vérifier que le modèle produit un résultat correspondant aux attentes (càd vérifier que les données ne sont pas trop spécifiques) ;\n",
    "    - Ne jamais s'attendre à un résultat parfait à 100% ;\n",
    "        - *il faut parfois inclure une phase de traitement des données en amont (pré-traitement) ;*\n",
    "        - *il faut souvent ajouter une phase de correction des données obtenues (post-traitement)*.\n"
   ]
  },
  {
   "cell_type": "markdown",
   "metadata": {
    "slideshow": {
     "slide_type": "subslide"
    }
   },
   "source": [
    "## Aparté sur l'apprentissage automatique : efficacité ?\n",
    "\n",
    "\n",
    "> En somme, utiliser des technologies d'apprentissage automatique, peut **générer des tâches supplémentaires** ou **augmenter le temps passé à certaines tâches** !\n",
    "\n",
    "> Mais cela permet de **réduire le temps dédié à d'autres** et rend possible le reprise d'une tâche depuis le début à moindre coût.\n",
    "\n",
    "![comparaison basique d'un workflow humain vs. avec machine learning](../../images/workflow_comp.png)"
   ]
  },
  {
   "cell_type": "markdown",
   "metadata": {
    "slideshow": {
     "slide_type": "subslide"
    }
   },
   "source": [
    "## Aparté sur l'apprentissage automatique : efficacité ?\n",
    "\n",
    "\n",
    "> En somme, utiliser des technologies d'apprentissage automatique, peut **générer des tâches supplémentaires** ou **augmenter le temps passé à certaines tâches** !\n",
    "\n",
    "> Mais cela permet de **réduire le temps dédié à d'autres** et rend possible le reprise d'une tâche depuis le début à moindre coût.\n",
    "\n",
    "![comparaison basique d'un workflow humain vs. avec machine learning](../../images/workflow_comp2.pnG)"
   ]
  },
  {
   "cell_type": "markdown",
   "metadata": {
    "slideshow": {
     "slide_type": "subslide"
    }
   },
   "source": [
    "## Reconnaissance automatique d'écriture\n",
    "\n",
    "Il existe deux grands domaines pour la reconnaissance d'écriture qui varient en fonction des types d'écritures :\n",
    "\n",
    "- **écritures imprimées :** les caractères sont toujours formés de la même manière dans un texte donné (fonte) ou avec un minimum de variations.\n",
    "\n",
    "\n",
    "- **écritures manuscrites :** la forme d'une lettre, d'un symbole ou d'un mot varie en fonction de sa place dans la page, dans la phrase, dans le mot, etc., mais aussi d'une personne à une autre. Pour ce domaine, on parle spécifiquement de \"*Handwritten Text Recognition*\", ou HTR.\n",
    "\n",
    "Aujourd'hui, on obtient facilement une transcription automatique à partir de documents contenant des écritures imprimées (ex : nombreux services d'OCR en ligne), en revanche la transcription automatique des écritures manuscrites a encore beaucoup de progrès à faire.\n",
    "\n"
   ]
  },
  {
   "cell_type": "markdown",
   "metadata": {
    "slideshow": {
     "slide_type": "subslide"
    }
   },
   "source": [
    "## Etapes fondamentales de la transcription automatique\n",
    "\n",
    "- Acquisition des images (numérisation avec un cahier des charges adapté (cadrage, résolution, etc.) ;\n",
    "\n",
    "- Pré-traitement des images (cadrage, réduction du bruit, parfois binarisation) ;\n",
    "\n",
    "- Détection du texte sur l'image (*baselines*) ;\n",
    "\n",
    "- Détection de la mise en page (*Layout Analysis*) et de l'ordre des lignes ;\n",
    "\n",
    "- Reconnaissance du texte (lettre par lettre, mot par mot ou même phrase par phrase, en fonction du logiciel) ;\n",
    "\n",
    "- Post-taitement des données textuelles (correction des erreurs de transcription, annotation du texte, etc.).\n",
    "\n",
    "![Étapes fondamentales de la transcription](../../images/htr_steps.png)"
   ]
  },
  {
   "cell_type": "markdown",
   "metadata": {
    "slideshow": {
     "slide_type": "subslide"
    }
   },
   "source": [
    "## Dématérialisation et transcription automatique\n",
    "\n",
    "Il est de plus en plus commun que les cahiers des charges guidant les campagnes de numérisations lancées par des institutions incluent une tâche de transcription automatique.\n",
    "\n",
    "La transcription automatique peut être :\n",
    "- réalisée à l'aide d'un logiciel propriétaire (exemple : [FineReader d'ABBYY](https://www.abbyy.com/fr/finereader/) )\n",
    "- réalisée à l'aide d'un logiciel libre et ouvert (exemple : [Tesseract](https://tesseract-ocr.github.io/) )\n",
    "- réalisée par un prestataire qui prend en charge la correction des erreurs de transcription (exemple : [liste de prestataires de numérisation](https://www.archimag.com/societe/domaines/prestataire-en-num%C3%A9risation) )\n",
    "- accompagnée d'une campagne de *crowdsourcing*\\* pour corriger les erreurs de transcription (exemple : [Transcribe Bentham](https://blogs.ucl.ac.uk/transcribe-bentham/) )\n",
    "\n",
    "\n",
    "Dans tous les cas, il faut réfléchir en amont à l'usage que l'on souhaite associer aux documents numérisés et transcrits. De ces usages découle par exemple la qualité minimale acceptée pour la transcription.\n",
    "\n",
    "\\* Attention : elle peut sembler une solution facile, mais ce n'est pas le cas !\n",
    "\n",
    "\n"
   ]
  },
  {
   "cell_type": "markdown",
   "metadata": {
    "slideshow": {
     "slide_type": "subslide"
    }
   },
   "source": [
    "## Quelques logiciels de transcription\n",
    "\n",
    "- Logiciels de transcription (imprimé et/ou manuscrit) : \n",
    "    - Tesseract \n",
    "    - CitLab (via Transkribus)\n",
    "    - Kraken\n",
    "    - FineReader\n",
    "    - OCRopus\n",
    "\n",
    "\n",
    "- Plateformes gérant l'ensemble du *workflow* : \n",
    "    - OCR 4 all\n",
    "    - esCriptorium\n",
    "    - Transkribus"
   ]
  },
  {
   "cell_type": "markdown",
   "metadata": {
    "slideshow": {
     "slide_type": "subslide"
    }
   },
   "source": [
    "## Que faire avec les données textuelles ?\n",
    "\n",
    "📃 Il est possible d'appliquer plusieurs méthodes d'extraction d'informations sur des données textuelles.\n",
    "\n",
    "\n",
    "📃 Lorsqu'elles sont automatisées grâce à des traitements informatiques, on parle de `traitement automatique des langages (TAL)` (ou *NLP* pour *Natural Language Processing*).\n",
    "- correction automatique\n",
    "- simplification/augmentation de texte\n",
    "- traduction automatique\n",
    "- extraction d'[`entités nommées`](https://fr.wikipedia.org/wiki/Entit%C3%A9_nomm%C3%A9e) (ou *NER* pour *Named Entity Recognition*)\n",
    "- analyse sémantique à grande échelle"
   ]
  },
  {
   "cell_type": "markdown",
   "metadata": {
    "slideshow": {
     "slide_type": "subslide"
    }
   },
   "source": [
    "📃 Comme la phase de transcription automatique en est passée par une phase d'analyse de la mise en page, il est fréquent de conserver ces informations dans le document final :\n",
    "\n",
    "- coordonnées de la portion de l'image correspondant au texte ;\n",
    "- groupes de lignes formant un paragraphe, un titre, etc. ;\n",
    "- autres éléments de mise en page spécifique (illustrations, tableau, etc.)\n",
    "- parfois aussi information sur la mise en forme des caractères (gras, italique, taille, etc.)"
   ]
  },
  {
   "cell_type": "markdown",
   "metadata": {
    "slideshow": {
     "slide_type": "slide"
    }
   },
   "source": [
    "# Aparté sur les expressions régulières"
   ]
  },
  {
   "cell_type": "markdown",
   "metadata": {
    "slideshow": {
     "slide_type": "subslide"
    }
   },
   "source": [
    "🕵️ Les `expressions régulières` désignent une syntaxe pour formuler des recherches (et des remplacements) dans un texte avec beaucoup de souplesse.\n",
    "\n",
    "\n",
    "🕵️ On parle aussi de `regex` (*regular expression*) ou de recherche par motif.\n",
    "\n",
    "\n",
    "🕵️ Elles sont disponibles dans presque tous les éditeurs de texte, moyennant activation, mais certains logiciels les implémentent avec une syntaxe spécifique.\n",
    "\n",
    "\n",
    "👿 par exemple : dans Microsoft Word , depuis la version 2016, l'option s'appelle `caractères génériques` et la syntaxe diffère de la syntaxe universelle, même si le principe reste le même. [➡️ doc](https://fr.officetooltips.com/word_2016/tips/utilisation_de_caracteres_generiques_pour_rechercher.html )."
   ]
  },
  {
   "cell_type": "markdown",
   "metadata": {
    "slideshow": {
     "slide_type": "subslide"
    }
   },
   "source": [
    "🕵️ Avec les expressions régulières on peut:\n",
    "- chercher toutes les dates contenues dans un document étant donné, par exemple, qu'une date est une suite de 4 chiffres compris entre 1800 et 2020\n",
    "\n",
    "- chercher toutes les adresses mails contenues dans un document étant donné qu'une adresse mail contient des caractères alphanumériques, un `@` et des `.` ou `_` ou `-` dans un certain ordre.\n",
    "\n",
    "- et beaucoup plus encore !\n",
    "\n",
    "\n"
   ]
  },
  {
   "cell_type": "markdown",
   "metadata": {
    "slideshow": {
     "slide_type": "subslide"
    }
   },
   "source": [
    "![](../../images/475px-XKCD-regular_expressions.png)\n",
    "\n",
    "\n",
    "*source: [xkcd](https://xkcd.com/)*"
   ]
  },
  {
   "cell_type": "markdown",
   "metadata": {
    "slideshow": {
     "slide_type": "subslide"
    }
   },
   "source": [
    "## Les expressions régulières en bref\n",
    "\n",
    "- une syntaxe :\n",
    "    - `[a-z]` (toutes les lettres de a à z en minuscule) ;\n",
    "    - `?` (0 ou 1 fois) ; `+` (1 ou plusieurs fois) ; `*` (0 ou plusieurs fois) ; `{2,5}` (entre 2 et 5 fois) ;\n",
    "    - `[^a]` (pas un a) ; `^a` (un a au début d'une ligne) ; etc. ;\n",
    "    - `()` et `$1` (sélection pour rechercher/remplacer).\n",
    "    \n",
    "\n",
    "- des raccourcis (ou classes) :\n",
    "    - `\\w` (de A à Z, minuscule ou majuscule, ***et*** de 0 à 9 ***et*** `_`) ;\n",
    "    - `\\d` (de 0 à 9) ;\n",
    "    - `\\s` (caractères d'espacement), `\\n` (saut à la ligne), `\\t` (tabulation) ; etc.\n",
    "\n",
    "\n",
    "- des caractères qui valent eux-mêmes : `a` (un a) ;\n",
    "\n",
    "\n",
    "- ou qu'il faut **échapper** : `\\?` (un point d'interrogation)\n",
    "\n"
   ]
  },
  {
   "cell_type": "markdown",
   "metadata": {
    "slideshow": {
     "slide_type": "subslide"
    }
   },
   "source": [
    "## Les expressions régulières en action\n",
    "\n",
    "- Exemple 1 : un motif pour chercher une date comprise entre 1000 et 2999 : `[1-2]\\d{3}`\n",
    "\n",
    "\n",
    "- Exemple 2 : un motif pour chercher une adresse email : `[\\w\\.-]+@[\\w\\.-]+\\.[\\w]`\n",
    "\n",
    "\n",
    "- Exemple 3 : un motif pour trouver tous les liens URL dans un texte : `https?:\\/\\/[\\w\\.-]+`\n",
    "\n",
    "\n",
    "> - pour démo :\n",
    ">    - texte = https://fr.wikipedia.org/w/index.php?title=La_Joconde&action=edit ;\n",
    ">    - outil = https://regex101.com/"
   ]
  },
  {
   "cell_type": "markdown",
   "metadata": {
    "slideshow": {
     "slide_type": "subslide"
    }
   },
   "source": [
    "## Pourquoi apprendre et utiliser les expressions régulières ?\n",
    "\n",
    "- certes, elles demandent un effort de modélisation des éléments textuels recherchés (ex : quelle structure trouve-t-on dans une adresse email et pas ailleurs ?)\n",
    "\n",
    "\n",
    "- mais elles permettent de simplifier la recherche dans un texte (ex : pas besoin de faire 100 recherches pour trouver toutes les dates entre 1900 et 2000)\n",
    "\n",
    "\n",
    "- elles permettent de supprimer ou modifier des portions de texte très ciblées en une seule fois (ex : inverser tous les jours et les mois dans une date exprimée selon le modèle MM-JJ-AAAA)"
   ]
  },
  {
   "cell_type": "markdown",
   "metadata": {
    "slideshow": {
     "slide_type": "subslide"
    }
   },
   "source": [
    "## Quelques outils pour apprendre à utiliser les expressions régulières\n",
    "\n",
    "- \"Comprendre les expressions régulières\" sur *Programming Historian* : https://programminghistorian.org/fr/lecons/comprendre-les-expressions-regulieres\n",
    "\n",
    "\n",
    "- Regex Crossword : https://regexcrossword.com/\n",
    "\n",
    "\n",
    "- Regex101 : https://regex101.com/\n",
    "\n",
    "\n",
    "- Regexr : https://regexr.com/\n"
   ]
  },
  {
   "cell_type": "markdown",
   "metadata": {
    "slideshow": {
     "slide_type": "slide"
    }
   },
   "source": [
    "# Structuration d'un document numérique"
   ]
  },
  {
   "cell_type": "markdown",
   "metadata": {
    "slideshow": {
     "slide_type": "subslide"
    }
   },
   "source": [
    "📑 La mise en forme des données textuelles permet de faire apparaître la `structure logique` d'un document :\n",
    "- en gras et dans une police plus grande on mettra les titres ;\n",
    "- en italique on mettra les titres d'ouvrages ou les mots étrangers ;\n",
    "- entre guillemets on mettra les citations ;\n",
    "- etc.\n",
    "\n",
    "\n",
    "📑 Seule, cette mise en forme n'est pas fiable :\n",
    "- dans certains contextes, on mettra le titre en gras, dans d'autres en italique, dans d'autres on le soulignera, etc.\n",
    "- au risque qu'il partage des caractéristiques avec d'autres éléments : les liens hypertextes, etc."
   ]
  },
  {
   "cell_type": "markdown",
   "metadata": {
    "slideshow": {
     "slide_type": "subslide"
    }
   },
   "source": [
    "📑 Quand on structure un document, il est essentiel de faire prévaloir sa fonction logique, plutôt que sa forme.\n",
    "- cela permet de modifier rapidement tous les éléments appartenant à la même classe d'objets ;\n",
    "- cela permet de conserver la lisibilité d'un document lorsque les conventions ou le médium changent ;\n",
    "\n",
    "\n",
    "📑 Il existe plusieurs conventions ou outils pour annoter la structure logique d'un document."
   ]
  },
  {
   "cell_type": "markdown",
   "metadata": {
    "slideshow": {
     "slide_type": "subslide"
    }
   },
   "source": [
    "## Titres, hiérarchie et paragraphes\n",
    "\n",
    "- Dans `Microsoft Word` ou son équivalent libre `LibreOffice Writer`, on utilise les (malnommés) `Styles` pour rendre compte de la structure logique d'un document (cela permet de générer ensuite une table des matières, par exemple)\n",
    "\n",
    "![styles dans writer](../../images/word_styles.pnG)"
   ]
  },
  {
   "cell_type": "markdown",
   "metadata": {
    "slideshow": {
     "slide_type": "subslide"
    }
   },
   "source": [
    "## Titres, hiérarchie et paragraphes\n",
    "\n",
    "- Lorsqu'on annote la structure logique dans un éditeur WYSIWYM, la confusion entre mise en forme et indication de la structure logique est moindre. \n",
    "\n",
    "- La mise en forme est opérée au moment du *parsing* du document (ouverture dans un navigateur par exemple), un fichier externe peut indiquer les règles de mise en forme (ex : CSS pour HTML).\n",
    "\n",
    "![styles dans writer](../../images/wysiwym_styles.pnG)"
   ]
  },
  {
   "cell_type": "markdown",
   "metadata": {
    "slideshow": {
     "slide_type": "subslide"
    }
   },
   "source": [
    "## Exemple d'annotation basique avec Markdown \n",
    "\n",
    "On peut annoter des éléments de structure logique en même temps que des éléments de mise en forme. L'un et l'autre ne sont pas exclusifs.\n",
    "\n",
    "```\n",
    "Non compilé : \n",
    "# Titre 1\n",
    "##### Titre 5\n",
    "\n",
    "[lien hypertexte](http://perdu.com/)  \n",
    "**texte mis en gras**  (mise en forme)  \n",
    "~~texte barré~~ (mise en forme)  \n",
    "```\n",
    "---\n",
    "\n",
    "Compilé : \n",
    "\n",
    "# Titre 1\n",
    "##### Titre 5\n",
    "\n",
    "[lien hypertexte](http://perdu.com/)  \n",
    "**texte mis en gras**  (mise en forme)  \n",
    "~~texte barré~~  (mise en forme)  "
   ]
  },
  {
   "cell_type": "markdown",
   "metadata": {
    "slideshow": {
     "slide_type": "subslide"
    }
   },
   "source": [
    "## Markdown\n",
    "\n",
    "Ⓜ️ `Markdown` est un langage de balisage léger qui permet d'encoder facilement la structure et certains éléments de mise en forme du texte sans gêner sa lecture. Il a été créé en 2004 par John Gruber et Aaron Swartz (US) ;\n",
    "\n",
    "Ⓜ️ Après compilation, on obtient un fichier HTML ou un PDF. Markdown permet donc de créer rapidement des contenus web ou des documents qui restent faciles à lire qu'ils soient compilés ou non ;\n",
    "\n",
    "Ⓜ️ Pour rester simples à lire, les annotations de Markdown sont très légères et limitées ;\n",
    "\n",
    "🤫 On peut utiliser Markdown ou un système d'annotation similaire dans Whatsapp et Messenger ;"
   ]
  },
  {
   "cell_type": "markdown",
   "metadata": {
    "slideshow": {
     "slide_type": "subslide"
    }
   },
   "source": [
    "## LaTeX\n",
    "\n",
    "🇱 `LaTeX` (prononcer \"latek\") est un langage et un système de composition de documents, bien plus complet que Markdown ;\n",
    "\n",
    "🇱 Il a été élaboré en 1985 par Leslie Lamport à partir d'un autre langage plus ancien : `TeX` ;\n",
    "\n",
    "🇱 Il est très utilisé dans le domaine des sciences car il a été conçu pour écrire aisément les formules mathématiques ;\n",
    "\n",
    "🇱 Un fichier annoté avec `LaTeX` est plus dur à lire sans compilation car les balises sont plus \"invasives\". Exemple : `\\chapter{Titre de chapitre}`\n",
    "\n",
    "🇱 Après compilation, on obtient généralement un fichier PDF, mais il est aussi possible de transformer le texte avant compilation pour créer un fichier HTML, etc. "
   ]
  },
  {
   "cell_type": "markdown",
   "metadata": {
    "slideshow": {
     "slide_type": "subslide"
    }
   },
   "source": [
    "## Mais ce n'est pas tout ! Il y a aussi XML\n",
    "\n",
    "![XML c'est encore au-dessus de tout ça](../../images/annotation_brain.png)"
   ]
  },
  {
   "cell_type": "markdown",
   "metadata": {
    "slideshow": {
     "slide_type": "slide"
    }
   },
   "source": [
    "# XML et ses standards"
   ]
  },
  {
   "cell_type": "markdown",
   "metadata": {
    "slideshow": {
     "slide_type": "subslide"
    }
   },
   "source": [
    "## Qu'est-ce que XML ?\n",
    "\n",
    "🌳 XML signifie *eXtensible Markup Language*\n",
    "\n",
    "🌳 XML est un **langage** de **balisage** générique. On le dit **extensible** car il propose une grammaire générale pour l'organisation du document, mais on peut créer ses propres noms de balises\n",
    "\n",
    "🌳 Comme HTML (Hypertext Markup Language), XML est un sous-ensemble du standard SGML (Standard Generalized Markup Language). Ces langages sont faciles à reconnaître : ils utilisent les chevrons (`<>`) pour former des balises"
   ]
  },
  {
   "cell_type": "markdown",
   "metadata": {
    "slideshow": {
     "slide_type": "subslide"
    }
   },
   "source": [
    "🌳 Un fichier XML est plusieurs choses :\n",
    "   - un fichier de texte\n",
    "   - un arbre composé d'éléments hiérarchisés\n",
    "   - une base de données\n",
    "   \n",
    "🌳 Il existe plusieurs langages qui permettent d'interagir avec XML :\n",
    "   - `xPath` : formuler un chemin à l'intérieur d'un arbre XML ;\n",
    "   - `XSLT` : transformer un arbre XML en un autre arbre XML ou en HTML ;\n",
    "   - `xQuery` : permet de faire des requêtes dans une base XML ;"
   ]
  },
  {
   "cell_type": "markdown",
   "metadata": {
    "slideshow": {
     "slide_type": "subslide"
    }
   },
   "source": [
    "🌳 XML définit une syntaxe :\n",
    "   - une balise est écrite entre `<...>` et entoure un contenu ;\n",
    "   - une balise **ouverte** doit donc être **fermée** ;\n",
    "   - un commentaire est écrit entre `<!-- ... -->` ;\n",
    "    \n",
    "🌳 XML ne définit pas de vocabulaire : il n'indique pas quel nom doit être donné à une balise : `<paragraph>`, `<paragraphe>`, `<para>`, `<para_ph>`, `<p>` sont tous des noms de balises valides ;\n",
    "\n",
    "🌳 Il existe des `standards` qui définissent un vocabulaire (un ensemble de nom de balise) et des règles de structure à l'intérieur de la syntaxe XML :\n",
    "   - `XML TEI` (*Text Encoding Initiative*) - description de documents textuels (1987)\n",
    "   - `XML EAD` (*Encoded Archival Description*) - description archivistique (1998)\n",
    "   - `XML ALTO` (*Analysed Layout and Text Object*) - description de la mise en page et du contenu d'un texte transcrit automatiquement (2004)\n",
    "   - `XML SVG` (*Scalable Vector Graphics*) - descriptions d'images vectorielles (1999)"
   ]
  },
  {
   "cell_type": "raw",
   "metadata": {
    "slideshow": {
     "slide_type": "slide"
    }
   },
   "source": [
    "A suivre"
   ]
  },
  {
   "cell_type": "markdown",
   "metadata": {
    "slideshow": {
     "slide_type": "skip"
    }
   },
   "source": [
    "## Un arbre XML ?\n",
    "\n",
    "Dans un fichier XML, les éléments sont hiérarchisés et imbriqués. \n",
    "\n"
   ]
  },
  {
   "cell_type": "markdown",
   "metadata": {
    "slideshow": {
     "slide_type": "skip"
    }
   },
   "source": [
    "XML EAD et XML TEI\n",
    "\n",
    "Mais aussi XSLT\n",
    "\n",
    "XML est une base de données et pas uniquement une manière d'ajouter des informations dans un texte\n",
    "\n",
    "Qui utilise XML ?"
   ]
  }
 ],
 "metadata": {
  "celltoolbar": "Diaporama",
  "kernelspec": {
   "display_name": "Python 3",
   "language": "python",
   "name": "python3"
  },
  "language_info": {
   "codemirror_mode": {
    "name": "ipython",
    "version": 3
   },
   "file_extension": ".py",
   "mimetype": "text/x-python",
   "name": "python",
   "nbconvert_exporter": "python",
   "pygments_lexer": "ipython3",
   "version": "3.8.3"
  }
 },
 "nbformat": 4,
 "nbformat_minor": 4
}
