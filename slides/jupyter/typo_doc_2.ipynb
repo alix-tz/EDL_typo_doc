{
 "cells": [
  {
   "cell_type": "markdown",
   "metadata": {
    "slideshow": {
     "slide_type": "slide"
    }
   },
   "source": [
    "# Typologie, formats et outils d'exploitation des documents numériques (2)\n",
    "\n",
    "\n",
    "\n",
    "📌 Ecole du Louvre, Master Documentation et Humanités Numériques, 2022\n",
    "\n",
    "---\n",
    "\n",
    "#### Alix Chagué\n",
    "\n",
    "\n",
    "📫 [alix.chague@inria.fr](mailto:alix.chague@inria.fr)  \n",
    "\n",
    "💼 *Doctorante en Humanités Numériques* @ Inria (Paris) & Université de Montréal\n",
    "\n",
    "| |\n",
    "| :---: |\n",
    "| ![EDL logo](https://raw.githubusercontent.com/alix-tz/EDL_typo_doc/main/images/edllogo.png) "
   ]
  },
  {
   "cell_type": "markdown",
   "metadata": {
    "slideshow": {
     "slide_type": "slide"
    }
   },
   "source": [
    "## Objectifs du cours\n",
    "\n",
    "\n",
    "🏆 Comprendre ce qu'est un document sur un ordinateur\n",
    "\n",
    "🏆 Savoir différencier les catégories de fichiers et les standards et formats qui leur sont associés\n",
    "\n",
    "🏆 Savoir différencier la mise en forme d'un fichier et sa structuration sémantique\n",
    "\n",
    "🏆 Connaître théoriquement plusieurs modes d'organisation et de mise en forme d'un fichier textuel (XML, Markdown, LaTeX, ...)\n",
    "\n",
    "🏆 Connaître théoriquement plusieurs modes de représentation de données organisées dans un fichier textuel (CSV, JSON)\n",
    "\n",
    "🏆 Connaître les principaux standards XML et l'environnement technologique associé à ce standard\n"
   ]
  },
  {
   "cell_type": "markdown",
   "metadata": {
    "slideshow": {
     "slide_type": "slide"
    }
   },
   "source": [
    "## Plan du cours\n",
    "\n",
    "- Que faire avec des données textuelles\n",
    "- Structuration des données\n",
    "- XML\n",
    "- TP : XML TEI"
   ]
  },
  {
   "cell_type": "markdown",
   "metadata": {
    "slideshow": {
     "slide_type": "slide"
    }
   },
   "source": [
    "# Que faire avec des données textuelles ?"
   ]
  },
  {
   "cell_type": "markdown",
   "metadata": {
    "slideshow": {
     "slide_type": "subslide"
    }
   },
   "source": [
    "## Extraction d'informations\n",
    "\n",
    "A l'aide de techniques de `TAL` (Traitement Automatique des langues / du langage) aussi appelé `NLP` (*Natural Language Processing*)\n",
    "\n",
    "- Correction automatique \n",
    "- Simplification/augmentation de texte\n",
    "- Traduction automatique\n",
    "- Extraction d'[`entités nommées`](https://fr.wikipedia.org/wiki/Entit%C3%A9_nomm%C3%A9e) (NER, *Named Entity Recognition*)\n",
    "- Liage d'entités nommées (EL, *Entity Linking*) et désambiguation\n",
    "- Analyses lexicométriques ou sémantiques"
   ]
  },
  {
   "cell_type": "markdown",
   "metadata": {
    "slideshow": {
     "slide_type": "subslide"
    }
   },
   "source": [
    "## Faciliter l'accès\n",
    "\n",
    "Rendre un document compatible avec des moteurs de recherche :\n",
    "- moteur de recherche plein texte\n",
    "- moteur de recherche combinant la recherche plein texte avec une recherche à facettes (via métadonnées)\n",
    "- création d'index (de personnes, de lieux, etc) grâce aux entités nommées\n",
    "\n",
    "Voire réaliser une édition numérique !"
   ]
  },
  {
   "cell_type": "markdown",
   "metadata": {
    "slideshow": {
     "slide_type": "skip"
    }
   },
   "source": [
    "## Transcription automatique et édition numérique \n",
    "\n",
    "📃 Comme la phase de transcription automatique en est passée par une phase d'analyse de la mise en page, il est fréquent de conserver ces informations dans le document final :\n",
    "\n",
    "- coordonnées de la portion de l'image correspondant au texte ;\n",
    "- groupes de lignes formant un paragraphe, un titre, etc. ;\n",
    "- autres éléments de mise en page spécifique (illustrations, tableau, etc.)\n",
    "- parfois aussi information sur la mise en forme des caractères (gras, italique, taille, etc.)"
   ]
  },
  {
   "cell_type": "markdown",
   "metadata": {
    "slideshow": {
     "slide_type": "slide"
    }
   },
   "source": [
    "# Structuration des données"
   ]
  },
  {
   "cell_type": "markdown",
   "metadata": {
    "slideshow": {
     "slide_type": "subslide"
    }
   },
   "source": [
    "## Pourquoi structurer les données \n",
    "\n",
    "- **trier** les données afin qu'un utilisateur puisse facilement sélectionner celles qui sont importantes ;\n",
    "\n",
    "\n",
    "- organiser les données pour les **mettre en rapport** les unes avec les autres ;\n",
    "\n",
    "\n",
    "- faire ressortir une structure logique qui **aide à la mise en forme du document**, à sa lecture par un humain ou par la machine ;\n",
    "\n",
    "- ..."
   ]
  },
  {
   "cell_type": "markdown",
   "metadata": {
    "slideshow": {
     "slide_type": "subslide"
    }
   },
   "source": [
    "### Deux exemples de formats texteuels structurés et simples : CSV et JSON"
   ]
  },
  {
   "cell_type": "markdown",
   "metadata": {
    "slideshow": {
     "slide_type": "subslide"
    }
   },
   "source": [
    "## CSV (*Comma Separated Values*) - données tabulaires\n",
    "\n",
    "- 1 ligne de texte = 1 ligne de tableau\n",
    "- 1 virgule = 1 nouvelle cellule de tableau\n",
    "- un ficher csv peut être ouvert avec Excel\n",
    "\n",
    "---\n",
    "\n",
    "| Id_Monographie | Id_Enqueté | Serie_Tome | Prénom | Nom | Place dans la famille | Lieu de naissance |\n",
    "| :------------- | :--------- | :--------- | :----- | :-- | :-------------------- | :---------------- |\n",
    "|001a            | 001aE1     | 1-1 (1857) | Jean   | M** | Père       | T** (Aube)        |\n",
    "|001a            | 001aE2     | 1-1 (1857) | Marie  | R** | Mère              | L** (Meurthe)     |\n",
    "|001a            | 001aE3     | 1-1 (1857) | Joseph | M** | Fils             |                   |\n",
    "\n",
    "---\n",
    "\n",
    "```\n",
    "Id_Monographie,Id_Enqueté,Serie_Tome,Prénom,Nom,Place dans la famille,Lieu de naissance\n",
    "001a,001aE1,1-1 (1857),Jean,M**,Père,T** (Aube)\n",
    "001a,001aE2,1-1 (1857),Marie,R**,Mère,L** (Meurthe)\n",
    "001a,001aE3,1-1 (1857),Joseph,M**,Fils,,\n",
    "```"
   ]
  },
  {
   "cell_type": "markdown",
   "metadata": {
    "slideshow": {
     "slide_type": "subslide"
    }
   },
   "source": [
    "## JSON (*JavaScript Object Notation*)\n",
    "\n",
    "- Ctilisation de structure similaire aux listes et aux dictionnaires en Python\n",
    "\n",
    "- Chaque valeur est associée à une étiquette, la structure peut fonctionner en arborescence, à plusieurs niveaux\n",
    "\n",
    "``` json\n",
    "[\n",
    "{\"Id_Monographie\":\"001a\", \"Id_Enqueté\":\"001aE1\", \"Serie_Tome\":\"1-1 (1857)\", \"Prénom\":\"Jean\", \"Nom\":\"M**\", \"Place dans la famille\":\"Père\", \"Lieu de naissance\":\"T** (Aube)\"},\n",
    "    \n",
    "{\"Id_Monographie\":\"001a\", \"Id_Enqueté\":\"001aE2\", \"Serie_Tome\":\"1-1 (1857)\", \"Prénom\":\"Marie\", \"Nom\":\"R**\", \"Place dans la famille\":\"Mère\", \"Lieu de naissance\":\"L** (Meurthe)\"},\n",
    "\n",
    "{\"Id_Monographie\":\"001a\", \"Id_Enqueté\":\"001aE3\", \"Serie_Tome\":\"1-1 (1857)\", \"Prénom\":\"Joseph\", \"Nom\":\"M**\", \"Place dans la famille\":\"Fils\", \"Lieu de naissance\":\"\"}\n",
    "]\n",
    "```"
   ]
  },
  {
   "cell_type": "markdown",
   "metadata": {
    "slideshow": {
     "slide_type": "subslide"
    }
   },
   "source": [
    "### Pourquoi mettre en forme ne suffit pas pour structurer ?"
   ]
  },
  {
   "cell_type": "markdown",
   "metadata": {
    "slideshow": {
     "slide_type": "subslide"
    }
   },
   "source": [
    "## Séparer la structure logique de la mise en forme :\n",
    "\n",
    "- un titre =/= un paragraphe\n",
    "- un titre d'ouvrage ou un mot étranger\n",
    "- une citation\n",
    "\n",
    "vs.\n",
    "\n",
    "- du texte en gras\n",
    "- du texte en italique\n",
    "- du texte entre guillemets"
   ]
  },
  {
   "cell_type": "markdown",
   "metadata": {
    "slideshow": {
     "slide_type": "subslide"
    }
   },
   "source": [
    "## Séparer la structure logique de l'apparence :\n",
    "\n",
    "*Pratiques de l'édition numériques* est un ouvrage *a priori* intéressant.\n",
    "\n",
    "---\n",
    "\n",
    "- tous les mots en italiques ne sont pas des mots étrangers, mais tous les mots étrangers sont en italiques\n",
    "\n",
    "- titres d'ouvrages cités en italiques (ou pas) et mots étrangers en italiques (ou pas)\n",
    "\n",
    "- on peut extraire rapidement tous les mots étrangers sans récolter aussi les titres d'ouvrages cités"
   ]
  },
  {
   "cell_type": "markdown",
   "metadata": {
    "slideshow": {
     "slide_type": "subslide"
    }
   },
   "source": [
    "## Structuration logique dans un éditeur de texte\n",
    "\n",
    "Dans `Microsoft Word` ou `LibreOffice Writer` :\n",
    "- les **styles** pour gérer les titres et créer automatiquement une table des matières\n",
    "\n",
    "![styles dans writer](https://raw.githubusercontent.com/alix-tz/EDL_typo_doc/main/images/word_styles.png)"
   ]
  },
  {
   "cell_type": "markdown",
   "metadata": {
    "slideshow": {
     "slide_type": "subslide"
    }
   },
   "source": [
    "## WYSIWYM et WYSIWYG \n",
    "\n",
    "- dans un éditeur WYSIWYM : moindre confusion entre mise en forme et indication de la structure logique\n",
    "\n",
    "- la mise en forme apparaît après *parsing* du document (création d'un PDF ou ouverture dans un navigateur)\n",
    "\n",
    "- le paramétrage de la mise en forme peut être géré dans un fichier externe (ex: CSS pour HTML)\n",
    "\n",
    "![styles dans writer](https://raw.githubusercontent.com/alix-tz/EDL_typo_doc/main/images/wysiwym_styles.png)"
   ]
  },
  {
   "cell_type": "markdown",
   "metadata": {
    "slideshow": {
     "slide_type": "subslide"
    }
   },
   "source": [
    "## Annotation de la structure logique avec Markdown \n",
    "\n",
    "Ⓜ️ `Markdown` est un langage de balisage léger qui permet d'encoder facilement la structure et certains éléments de mise en forme du texte sans gêner sa lecture. \n",
    "\n",
    "Ⓜ️ Il permet de créer des fichiers HTML ou PDF et est beaucoup utilisé sur le web, notamment sur des plateformes comme Github\n",
    "\n",
    "Ⓜ️ Même non compilé, un texte Markdown est facile à lire car les annotation sont légères et limitées ;\n",
    "\n",
    "🤫 On peut utiliser Markdown ou un système similaire dans Whatsapp et Messenger ;"
   ]
  },
  {
   "cell_type": "markdown",
   "metadata": {
    "slideshow": {
     "slide_type": "subslide"
    }
   },
   "source": [
    "### Markdown en exemple\n",
    "\n",
    "```\n",
    "Non compilé : \n",
    "# Titre 1\n",
    "##### Titre 5\n",
    "\n",
    "[lien hypertexte](http://perdu.com/)  \n",
    "**texte mis en gras**  (mise en forme)  \n",
    "~~texte barré~~ (mise en forme)  \n",
    "```\n",
    "---\n",
    "\n",
    "Compilé : \n",
    "\n",
    "# Titre 1\n",
    "##### Titre 5\n",
    "\n",
    "[lien hypertexte](http://perdu.com/)  \n",
    "**texte mis en gras**  (mise en forme)  \n",
    "~~texte barré~~  (mise en forme)  "
   ]
  },
  {
   "cell_type": "markdown",
   "metadata": {
    "slideshow": {
     "slide_type": "subslide"
    }
   },
   "source": [
    "## Structuration logique avec LaTeX\n",
    "\n",
    "🇱 `LaTeX` (prononcer \"latek\") est un langage et un système de composition de documents, + complet que Markdown ;\n",
    "\n",
    "🇱 Utilisé dans le domaine des sciences car on peut facilement écrire des formules mathématiques ;\n",
    "\n",
    "🇱 Les balises sémantiques de `LaTeX` sont plus \"invasives\". Exemple : `\\chapter{Titre de chapitre}` ;\n",
    "\n",
    "🇱 Pour voir la mise en forme, on doit **compiler** le fichier `.tex`. On obtient un PDF ou du HTML ;\n",
    "\n",
    "🇱 LaTeX ne sert pas qu'à annoter la structuration logique : il prend en charge la mise en forme du document au sens large."
   ]
  },
  {
   "cell_type": "markdown",
   "metadata": {
    "slideshow": {
     "slide_type": "subslide"
    }
   },
   "source": [
    "## Quelques ressources pour aller plus loin \n",
    "\n",
    "- [Leçon de Programming Historian sur Markdown](https://programminghistorian.org/fr/lecons/debuter-avec-markdown)\n",
    "\n",
    "- [Séries de leçon sur LaTeX (Zeste de Savoir)](https://zestedesavoir.com/tutoriels/826/introduction-a-latex/)\n",
    "\n",
    "- [Tutoriel d'Overleaf pour LaTeX](https://www.overleaf.com/learn/latex/Learn_LaTeX_in_30_minutes)\n"
   ]
  },
  {
   "cell_type": "markdown",
   "metadata": {
    "slideshow": {
     "slide_type": "subslide"
    }
   },
   "source": [
    "## Let's play\n",
    "\n",
    "➡️ TEXTE : [pont_mirabeau.txt](https://raw.githubusercontent.com/alix-tz/EDL_typo_doc/main/tp/pont_mirabeau.txt) | IMAGE :  [pont_mirabeau.png](https://raw.githubusercontent.com/alix-tz/EDL_typo_doc/main/tp/pont_mirabeau.PNG)\n",
    "\n",
    "➡️ Éditeurs en ligne : [Dillinger](https://dillinger.io/) ou [HedgeDoc (collaboratif)](https://demo.hedgedoc.org/dvsC_5QTRVmnc33QASbThw#)\n",
    "\n",
    "Faire un encodage en Markdown du poème : \n",
    "- mettre le titre en niveau 1\n",
    "- faire de chaque première ligne de strophe un titre de niveau 3\n",
    "- mettre en italique le paratexte\n",
    "- mettre les noms propres en gras\n"
   ]
  },
  {
   "cell_type": "markdown",
   "metadata": {
    "slideshow": {
     "slide_type": "slide"
    }
   },
   "source": [
    "# XML"
   ]
  },
  {
   "cell_type": "markdown",
   "metadata": {
    "slideshow": {
     "slide_type": "subslide"
    }
   },
   "source": [
    "## Qu'est-ce que XML ?\n",
    "\n",
    "🌳 XML signifie *eXtensible Markup Language* ;\n",
    "\n",
    "🌳 XML est un **langage** de **balisage** générique ;\n",
    "\n",
    "``` xml\n",
    "<balise>contenu</balise>\n",
    "```\n",
    "\n",
    "🌳 XML est **extensible** car on peut créer ses propres noms de balise ;\n",
    "\n",
    "🌳 XML est apparu à la fin des années 1990, c'est un sous-ensemble du standard SGML (Standard Generalized Markup Language), comme HTML (Hypertext Markup Language)\n",
    "\n",
    "🌳 Ces langages utilisent les chevrons (`<>`) pour former des balises.\n"
   ]
  },
  {
   "cell_type": "markdown",
   "metadata": {
    "slideshow": {
     "slide_type": "subslide"
    }
   },
   "source": [
    "## La syntaxe du XML\n",
    "\n",
    "- une balise XML est écrite entre chevrons (`< nom_de_la_balise >`) et entoure généralement un contenu ;\n",
    "\n",
    "- une balise **ouverte** (`<slide>`) doit donc être **fermée** (`</slide>`);\n",
    "\n",
    "- une balise peut-être vide (elle n'encadre pas un contenu) : `<nothing></nothing>`, ce qui peut aussi s'écrire : `<nothing/>`\n",
    "\n",
    "- les balises peuvent être imbriquées ;\n",
    "\n",
    "- un commentaire est écrit entre `<!-- ... -->` ;\n",
    "\n",
    "- une balise peut avoir des **attributs** qui possèdent des **valeurs** ;\n",
    "\n",
    "``` xml\n",
    "<balise attribut=\"valeur\">contenu</balise>\n",
    "```"
   ]
  },
  {
   "cell_type": "markdown",
   "metadata": {
    "slideshow": {
     "slide_type": "subslide"
    }
   },
   "source": [
    "## XML : un exemple\n",
    "\n",
    "``` xml\n",
    "<slide>\n",
    "    <titre>Qu'est-ce que XML ?</titre>\n",
    "    <para>\n",
    "        <line n=\"001\">🌳 XML signifie <anglais>eXtensible Markup Language</anglais></line>\n",
    "        <line n=\"002\">🌳 XML est un <gras>langage</gras> de <gras>balisage</gras> générique. On le dit <gras>extensible</gras> car il propose une grammaire générale pour l'organisation du document, mais on peut créer ses propres noms de balises</line>\n",
    "    </para>\n",
    "</slide>            \n",
    "\n",
    "```\n",
    "\n",
    "---\n",
    "\n",
    "- `<slide>` est une **balise** ou un élément\n",
    "- `slide` est un **nom** de balise\n",
    "- \"Qu'est-ce que XML ?\" est le contenu de la balise \"titre\"\n",
    "- `n` est un **attribut** de la balise \"line\"\n",
    "- `001` est la **valeur** de l'attribut \"n\"\n"
   ]
  },
  {
   "cell_type": "markdown",
   "metadata": {
    "slideshow": {
     "slide_type": "subslide"
    }
   },
   "source": [
    "## XML et les standards \n",
    "\n",
    "🌳 XML n'indique pas comment s'appellent les balises \n",
    "\n",
    "- `<paragraph>`, `<paragraphe>`, `<para>`, `<para_ph>`, `<p>` sont tous des noms de balises **valides** ;\n",
    "    \n",
    "🌳 XML ne correspond qu'à la **syntaxe** ;\n",
    "\n",
    "🌳 Les `standards` définissent le vocabulaire (ensemble de noms de balise) et des règles de compositions :\n",
    "   - [`XML TEI`](https://tei-c.org/about/) (*Text Encoding Initiative*) - description de documents textuels (1987)\n",
    "   - [`XML EAD`](https://www.loc.gov/ead/) (*Encoded Archival Description*) - description archivistique (1998)\n",
    "   - [`XML SVG`](https://www.w3.org/TR/SVG2/Overview.html) (*Scalable Vector Graphics*) - descriptions d'images vectorielles (1999)\n",
    "   - [`XML ALTO`](https://www.loc.gov/standards/alto/) (*Analysed Layout and Text Object*) - description de la mise en page et du contenu d'un texte transcrit automatiquement (2004)\n",
    "   \n",
    "🌳 Le **schéma** peut définir une sous-spécification au sein d'un standard ;"
   ]
  },
  {
   "cell_type": "markdown",
   "metadata": {
    "slideshow": {
     "slide_type": "subslide"
    }
   },
   "source": [
    "## Concepts et outils\n",
    "\n",
    "🌳 Un fichier XML est plusieurs choses :\n",
    "   - un fichier de texte\n",
    "   - un arbre composé d'éléments hiérarchisés\n",
    "   - une base de données\n",
    "   \n",
    "🌳 Il existe plusieurs langages qui permettent d'interagir avec XML :\n",
    "   - `xPath` : formuler un chemin à l'intérieur d'un arbre XML ;\n",
    "   - `XSLT` : transformer un arbre XML en un autre arbre XML ou en HTML ;\n",
    "   - `xQuery` : permet de faire des requêtes dans une base XML ;"
   ]
  },
  {
   "cell_type": "markdown",
   "metadata": {
    "slideshow": {
     "slide_type": "slide"
    }
   },
   "source": [
    "## La TEI "
   ]
  },
  {
   "attachments": {},
   "cell_type": "markdown",
   "metadata": {
    "slideshow": {
     "slide_type": "subslide"
    }
   },
   "source": [
    "## Documentation\n",
    "\n",
    "- Les *Guidelines* de la TEI expliquent comment l'utiliser : https://tei-c.org/\n",
    "    - quels noms donner aux balises\n",
    "    - comment les utiliser (dans quel ordre et pour décrire quoi)\n",
    "\n",
    "Exemple : `<l>`\n",
    "\n",
    "![TEI the l element](https://raw.githubusercontent.com/alix-tz/EDL_typo_doc/main/images/tei_l_element.png)"
   ]
  },
  {
   "cell_type": "markdown",
   "metadata": {
    "slideshow": {
     "slide_type": "subslide"
    }
   },
   "source": [
    "## Structure minimale obligatoire\n",
    "\n",
    "``` xml\n",
    "<?xml version=\"1.0\" encoding=\"UTF-8\"?>\n",
    "<TEI xmlns=\"http://www.tei-c.org/ns/1.0\">\n",
    "  <teiHeader>\n",
    "      <fileDesc>\n",
    "         <titleStmt>\n",
    "            <title>Title</title>\n",
    "         </titleStmt>\n",
    "         <publicationStmt>\n",
    "            <p>Publication Information</p>\n",
    "         </publicationStmt>\n",
    "         <sourceDesc>\n",
    "            <p>Information about the source</p>\n",
    "         </sourceDesc>\n",
    "      </fileDesc>\n",
    "  </teiHeader>\n",
    "  <text>\n",
    "      <body>\n",
    "         <p>Some text here.</p>\n",
    "      </body>\n",
    "  </text>\n",
    "</TEI>\n",
    "```"
   ]
  },
  {
   "cell_type": "markdown",
   "metadata": {
    "slideshow": {
     "slide_type": "subslide"
    }
   },
   "source": [
    "## Déclaration de l'espace de nom\n",
    "\n",
    "``` xml\n",
    "<TEI xmlns=\"http://www.tei-c.org/ns/1.0\">\n",
    "```\n",
    "\n",
    "Cette balise indique 2 choses : \n",
    "- qu'on débute un élément nommé `TEI` \n",
    "- qu'on se réfère au vocabulaire, à l'espace de nom (namespace : ns) publié à l'adresse indiquée\n"
   ]
  },
  {
   "cell_type": "markdown",
   "metadata": {
    "slideshow": {
     "slide_type": "subslide"
    }
   },
   "source": [
    "## En-tête et corps\n",
    "\n",
    "``` xml\n",
    "<teiHeader>\n",
    "    <!-- métadonnées -->\n",
    "</teiHeader>\n",
    "```\n",
    "\n",
    "Le `teiHeader` est un élément XML qui contient les métadonnées (header = en-tête)\n",
    "\n",
    "🌳 https://www.tei-c.org/release/doc/tei-p5-doc/fr/html/ref-teiHeader.html\n",
    "\n",
    "---\n",
    "\n",
    "``` xml\n",
    "<body>\n",
    "    <!-- corps du texte -->\n",
    "</body>\n",
    "``` \n",
    "\n",
    "Le `body` reçoit le contenu du document, le corps du texte.\n",
    "\n",
    "🌳 https://tei-c.org/release/doc/tei-p5-doc/fr/html/ref-body.html"
   ]
  },
  {
   "cell_type": "markdown",
   "metadata": {
    "slideshow": {
     "slide_type": "subslide"
    }
   },
   "source": [
    "## Let's play\n",
    "\n",
    "➡️ TEXTE : [pont_mirabeau.txt](https://raw.githubusercontent.com/alix-tz/EDL_typo_doc/main/tp/pont_mirabeau.txt) | IMAGE :  [pont_mirabeau.png](https://raw.githubusercontent.com/alix-tz/EDL_typo_doc/main/tp/pont_mirabeau.PNG)\n",
    "\n",
    "➡️ Éditeurs en ligne : [Dillinger](https://dillinger.io/) ou [HedgeDoc (collaboratif)](https://demo.hedgedoc.org/dvsC_5QTRVmnc33QASbThw#)\n",
    "\n",
    "S'appuyer sur les Guidelines de la TEI pour proposer un encodage du poème.\n",
    "\n",
    "---\n",
    "\n",
    "Quelques idées : \n",
    "- métadonnées : *cf. [2. TEI HEADER](https://tei-c.org/release/doc/tei-p5-doc/en/html/HD.html)*\n",
    "- structure du texte (lignes, paragraphes, tabulation, etc) : *cf. [6. VERSE](https://tei-c.org/release/doc/tei-p5-doc/en/html/VE.html)*\n",
    "- entités et informations spécifiques (lieu, dates, etc) : *cf. [13. NAMES, DATES, PEOPLE, AND PLACES](https://tei-c.org/release/doc/tei-p5-doc/en/html/ND.html)*\n",
    "- description de la source primaire : *cf. [11. REPRESENTATION OF PRIMARY SOURCES](https://tei-c.org/release/doc/tei-p5-doc/en/html/PH.html)*"
   ]
  },
  {
   "cell_type": "markdown",
   "metadata": {
    "slideshow": {
     "slide_type": "subslide"
    }
   },
   "source": [
    "➡️ exemple : [pont_mirabeau.xml](https://github.com/alix-tz/EDL_typo_doc/blob/main/tp/pont_mirabeau.xml)"
   ]
  },
  {
   "cell_type": "markdown",
   "metadata": {
    "slideshow": {
     "slide_type": "subslide"
    }
   },
   "source": [
    "## Aller plus loin sur la TEI \n",
    "\n",
    "- [Série de vidéos DariahTeach sur la TEI](https://www.youtube.com/watch?v=R0ncI_rr1z4&list=PL77mHK9JuenN9NXeXQbVcUORz7HZk-9Pv&index=3)"
   ]
  }
 ],
 "metadata": {
  "celltoolbar": "Diaporama",
  "kernelspec": {
   "display_name": "Python 3",
   "language": "python",
   "name": "python3"
  },
  "language_info": {
   "codemirror_mode": {
    "name": "ipython",
    "version": 3
   },
   "file_extension": ".py",
   "mimetype": "text/x-python",
   "name": "python",
   "nbconvert_exporter": "python",
   "pygments_lexer": "ipython3",
   "version": "3.8.5"
  }
 },
 "nbformat": 4,
 "nbformat_minor": 4
}
