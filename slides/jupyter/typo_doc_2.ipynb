{
 "cells": [
  {
   "cell_type": "markdown",
   "metadata": {
    "slideshow": {
     "slide_type": "slide"
    }
   },
   "source": [
    "# Typologie, formats et outils d'exploitation des documents numériques (2)\n",
    "\n",
    "\n",
    "\n",
    "📌 Ecole du Louvre, Master Documentation et Humanités Numériques, 2022\n",
    "\n",
    "---\n",
    "\n",
    "#### Alix Chagué\n",
    "\n",
    "\n",
    "📫 [alix.chague@inria.fr](mailto:alix.chague@inria.fr)  \n",
    "\n",
    "💼 *Doctorante en Humanités Numériques* @ Inria (Paris) & Université de Montréal\n",
    "\n",
    "| |\n",
    "| :---: |\n",
    "| ![EDL logo](https://raw.githubusercontent.com/alix-tz/EDL_typo_doc/main/images/edllogo.png) "
   ]
  },
  {
   "cell_type": "markdown",
   "metadata": {
    "slideshow": {
     "slide_type": "slide"
    }
   },
   "source": [
    "## Objectifs du cours\n",
    "\n",
    "\n",
    "🏆 Comprendre ce qu'est un document sur un ordinateur\n",
    "\n",
    "🏆 Savoir différencier les catégories de fichiers et les standards et formats qui leur sont associés\n",
    "\n",
    "🏆 Savoir différencier la mise en forme d'un fichier et sa structuration sémantique\n",
    "\n",
    "🏆 Connaître théoriquement plusieurs modes d'organisation et de mise en forme d'un fichier textuel (XML, Markdown, LaTeX, ...)\n",
    "\n",
    "🏆 Connaître théoriquement plusieurs modes de représentation de données organisées dans un fichier textuel (CSV, JSON)\n",
    "\n",
    "🏆 Connaître les principaux standards XML et l'environnement technologique associé à ce standard\n"
   ]
  },
  {
   "cell_type": "markdown",
   "metadata": {
    "slideshow": {
     "slide_type": "slide"
    }
   },
   "source": [
    "## Plan du cours\n",
    "\n",
    "- Que faire avec des données textuelles\n",
    "- Structuration des données\n",
    "- XML\n",
    "- TP : XML TEI"
   ]
  },
  {
   "cell_type": "markdown",
   "metadata": {
    "slideshow": {
     "slide_type": "slide"
    }
   },
   "source": [
    "# Que faire avec des données textuelles ?"
   ]
  },
  {
   "cell_type": "markdown",
   "metadata": {
    "slideshow": {
     "slide_type": "subslide"
    }
   },
   "source": [
    "## Extraction d'informations\n",
    "\n",
    "A l'aide de techniques de `TAL` (Traitement Automatique des langues / du langage) aussi appelé `NLP` (*Natural Language Processing*)\n",
    "\n",
    "- Correction automatique \n",
    "- Simplification/augmentation de texte\n",
    "- Traduction automatique\n",
    "- Extraction d'[`entités nommées`](https://fr.wikipedia.org/wiki/Entit%C3%A9_nomm%C3%A9e) (NER, *Named Entity Recognition*)\n",
    "- Liage d'entités nommées (EL, *Entity Linking*) et désambiguation\n",
    "- Analyses lexicométriques ou sémantiques"
   ]
  },
  {
   "cell_type": "markdown",
   "metadata": {
    "slideshow": {
     "slide_type": "subslide"
    }
   },
   "source": [
    "## Faciliter l'accès\n",
    "\n",
    "Rendre un document compatible avec des moteurs de recherche :\n",
    "- moteur de recherche plein texte\n",
    "- moteur de recherche combinant la recherche plein texte avec une recherche à facettes (via métadonnées)\n",
    "- création d'index (de personnes, de lieux, etc) grâce aux entités nommées\n",
    "\n",
    "Voire réaliser une édition numérique !"
   ]
  },
  {
   "cell_type": "markdown",
   "metadata": {
    "slideshow": {
     "slide_type": "skip"
    }
   },
   "source": [
    "## Transcription automatique et édition numérique \n",
    "\n",
    "📃 Comme la phase de transcription automatique en est passée par une phase d'analyse de la mise en page, il est fréquent de conserver ces informations dans le document final :\n",
    "\n",
    "- coordonnées de la portion de l'image correspondant au texte ;\n",
    "- groupes de lignes formant un paragraphe, un titre, etc. ;\n",
    "- autres éléments de mise en page spécifique (illustrations, tableau, etc.)\n",
    "- parfois aussi information sur la mise en forme des caractères (gras, italique, taille, etc.)"
   ]
  },
  {
   "cell_type": "markdown",
   "metadata": {
    "slideshow": {
     "slide_type": "slide"
    }
   },
   "source": [
    "# Structuration des données"
   ]
  },
  {
   "cell_type": "markdown",
   "metadata": {
    "slideshow": {
     "slide_type": "subslide"
    }
   },
   "source": [
    "## Pourquoi structurer les données \n",
    "\n",
    "- trier les données afin qu'un utilisateur puisse facilement sélectionner celles qui sont importantes ;\n",
    "\n",
    "\n",
    "- organiser les données pour les mettre en rapport les unes avec les autres ;\n",
    "\n",
    "\n",
    "- faire ressortir une structure logique qui aide à la mise en forme du document, à sa lecture par un humain ou par la machine ;\n",
    "\n",
    "- ..."
   ]
  },
  {
   "cell_type": "markdown",
   "metadata": {
    "slideshow": {
     "slide_type": "subslide"
    }
   },
   "source": [
    "## CSV (*Comma Separated Values*)\n",
    "\n",
    "- 1 ligne de texte = 1 ligne de tableau\n",
    "- 1 virgule = 1 nouvelle cellule de tableau\n",
    "- un ficher csv peut être ouvert avec Excel\n",
    "\n",
    "---\n",
    "\n",
    "| Id_Monographie | Id_Enqueté | Serie_Tome | Prénom | Nom | Place dans la famille | Lieu de naissance |\n",
    "| :------------- | :--------- | :--------- | :----- | :-- | :-------------------- | :---------------- |\n",
    "|001a            | 001aE1     | 1-1 (1857) | Jean   | M** | Père       | T** (Aube)        |\n",
    "|001a            | 001aE2     | 1-1 (1857) | Marie  | R** | Mère              | L** (Meurthe)     |\n",
    "|001a            | 001aE3     | 1-1 (1857) | Joseph | M** | Fils             |                   |\n",
    "\n",
    "---\n",
    "\n",
    "```\n",
    "Id_Monographie,Id_Enqueté,Serie_Tome,Prénom,Nom,Place dans la famille,Lieu de naissance\n",
    "001a,001aE1,1-1 (1857),Jean,M**,Père,T** (Aube)\n",
    "001a,001aE2,1-1 (1857),Marie,R**,Mère,L** (Meurthe)\n",
    "001a,001aE3,1-1 (1857),Joseph,M**,Fils,,\n",
    "```"
   ]
  },
  {
   "cell_type": "markdown",
   "metadata": {
    "slideshow": {
     "slide_type": "subslide"
    }
   },
   "source": [
    "## JSON (*JavaScript Object Notation*)\n",
    "\n",
    "- utilisation de structure similaire aux listes et aux dictionnaires en Python\n",
    "\n",
    "- Chaque valeur est associée à une étiquette, la structure peut fonctionner en arborescence, à plusieurs niveaux\n",
    "\n",
    "``` json\n",
    "[\n",
    "{\"Id_Monographie\":\"001a\"}, {\"Id_Enqueté\":\"001aE1\"}, {\"Serie_Tome\":\"1-1 (1857)\"}, {\"Prénom\":\"Jean\"}, {\"Nom\":\"M**\"}, {\"Place dans la famille\":\"Père\"}, {\"Lieu de naissance\":\"T** (Aube)\"},\n",
    "    \n",
    "{\"Id_Monographie\":\"001a\"}, {\"Id_Enqueté\":\"001aE2\"}, {\"Serie_Tome\":\"1-1 (1857)\"}, {\"Prénom\":\"Marie\"}, {\"Nom\":\"R**\"}, {\"Place dans la famille\":\"Mère\"}, {\"Lieu de naissance\":\"L** (Meurthe)\"},\n",
    "\n",
    "{\"Id_Monographie\":\"001a\"}, {\"Id_Enqueté\":\"001aE3\"}, {\"Serie_Tome\":\"1-1 (1857)\"}, {\"Prénom\":\"Joseph\"}, {\"Nom\":\"M**\"}, {\"Place dans la famille\":\"Fils\"}, {\"Lieu de naissance\":\"\"}\n",
    "]\n",
    "```"
   ]
  },
  {
   "cell_type": "markdown",
   "metadata": {
    "slideshow": {
     "slide_type": "subslide"
    }
   },
   "source": [
    "## Séparer la structure logique de l'apparence :\n",
    "\n",
    "- un titre =/= un paragraphe\n",
    "- un titre d'ouvrage ou un mot étranger\n",
    "- une citation\n",
    "\n",
    "vs.\n",
    "\n",
    "- du texte en gras\n",
    "- du texte en italique\n",
    "- du texte entre guillemets"
   ]
  },
  {
   "cell_type": "markdown",
   "metadata": {
    "slideshow": {
     "slide_type": "subslide"
    }
   },
   "source": [
    "## Séparer la structure logique de l'apparence :\n",
    "\n",
    "En fonction du medium ou du contexte, on affiche un rendu particulier\n",
    "\n",
    "- toutes les mots en italiques ne sont pas des mots étrangers, mais tous les mots étrangers sont en italiques\n",
    "\n",
    "- on peut décider de finalement mettre les titres en gras tout en gardant les mots étrangers en italiques\n",
    "\n",
    "- on peut extraire rapidement tous les mots étrangers\n",
    "\n",
    "Il extiste **plusieurs conventions** pour formaliser la structure logique."
   ]
  },
  {
   "cell_type": "markdown",
   "metadata": {
    "slideshow": {
     "slide_type": "subslide"
    }
   },
   "source": [
    "## Structuration logique dans un éditeur de texte\n",
    "\n",
    "Dans `Microsoft Word` ou `LibreOffice Writer` :\n",
    "- les **styles** pour gérer les titres et créer automatiquement une table des matières\n",
    "\n",
    "![styles dans writer](https://raw.githubusercontent.com/alix-tz/EDL_typo_doc/main/images/word_styles.png)"
   ]
  },
  {
   "cell_type": "markdown",
   "metadata": {
    "slideshow": {
     "slide_type": "subslide"
    }
   },
   "source": [
    "## WYSIWYM et WYSIWYG \n",
    "\n",
    "- dans un éditeur WYSIWYM : moindre confusion entre mise en forme et indication de la structure logique\n",
    "\n",
    "- la mise en forme apparaît après *parsing* du document (création d'un PDF ou ouverture dans un navigateur)\n",
    "\n",
    "- le paramétrage de la mise en forme peut être géré dans un fichier externe (ex: CSS pour HTML)\n",
    "\n",
    "![styles dans writer](https://raw.githubusercontent.com/alix-tz/EDL_typo_doc/main/images/wysiwym_styles.png)"
   ]
  },
  {
   "cell_type": "markdown",
   "metadata": {
    "slideshow": {
     "slide_type": "subslide"
    }
   },
   "source": [
    "## Annotation de la structure logique avec Markdown \n",
    "\n",
    "Ⓜ️ `Markdown` est un langage de balisage léger qui permet d'encoder facilement la structure et certains éléments de mise en forme du texte sans gêner sa lecture. \n",
    "\n",
    "Ⓜ️ Il permet de créer des fichiers HTML ou PDF et est beaucoup utilisé sur le web, notamment sur des plateformes comme Github\n",
    "\n",
    "Ⓜ️ Même non compilé, un texte Markdown est facile à lire car les annotation sont légères et limitées ;\n",
    "\n",
    "🤫 On peut utiliser Markdown ou un système similaire dans Whatsapp et Messenger ;"
   ]
  },
  {
   "cell_type": "markdown",
   "metadata": {
    "slideshow": {
     "slide_type": "subslide"
    }
   },
   "source": [
    "### Markdown en exemple\n",
    "\n",
    "```\n",
    "Non compilé : \n",
    "# Titre 1\n",
    "##### Titre 5\n",
    "\n",
    "[lien hypertexte](http://perdu.com/)  \n",
    "**texte mis en gras**  (mise en forme)  \n",
    "~~texte barré~~ (mise en forme)  \n",
    "```\n",
    "---\n",
    "\n",
    "Compilé : \n",
    "\n",
    "# Titre 1\n",
    "##### Titre 5\n",
    "\n",
    "[lien hypertexte](http://perdu.com/)  \n",
    "**texte mis en gras**  (mise en forme)  \n",
    "~~texte barré~~  (mise en forme)  "
   ]
  },
  {
   "cell_type": "markdown",
   "metadata": {
    "slideshow": {
     "slide_type": "subslide"
    }
   },
   "source": [
    "## Structuration logique avec LaTeX\n",
    "\n",
    "🇱 `LaTeX` (prononcer \"latek\") est un langage et un système de composition de documents, bien plus complet que Markdown ;\n",
    "\n",
    "🇱 Il est très utilisé dans le domaine des sciences car il a été conçu pour écrire aisément les formules mathématiques ;\n",
    "\n",
    "🇱 Un fichier annoté avec `LaTeX` est plus dur à lire sans compilation car les balises sont plus \"invasives\". Exemple : `\\chapter{Titre de chapitre}`\n",
    "\n",
    "🇱 Après compilation, on obtient un PDF ou du HTML \n",
    "\n",
    "🇱 LaTeX ne sert pas qu'à annoter la structuration logique : il prend en charge la mise en forme du document au sens large."
   ]
  },
  {
   "cell_type": "markdown",
   "metadata": {
    "slideshow": {
     "slide_type": "subslide"
    }
   },
   "source": [
    "## XML permet de pousser beaucoup plus loin l'annotation sémantique\n",
    "\n",
    "\n",
    "![XML c'est encore au-dessus de tout ça](https://raw.githubusercontent.com/alix-tz/EDL_typo_doc/main/images/annotation_brain.png)"
   ]
  },
  {
   "cell_type": "markdown",
   "metadata": {
    "slideshow": {
     "slide_type": "slide"
    }
   },
   "source": [
    "# XML"
   ]
  },
  {
   "cell_type": "markdown",
   "metadata": {
    "slideshow": {
     "slide_type": "subslide"
    }
   },
   "source": [
    "## Let's play\n",
    "\n",
    "➡️ [pont_mirabeau.txt](https://github.com/alix-tz/EDL_typo_doc/blob/main/tp/pont_mirabeau.txt)\n",
    "\n",
    "➡️ [pont_mirabeau.png](https://github.com/alix-tz/EDL_typo_doc/blob/main/tp/pont_mirabeau.PNG)\n"
   ]
  },
  {
   "cell_type": "markdown",
   "metadata": {
    "slideshow": {
     "slide_type": "subslide"
    }
   },
   "source": [
    "## Qu'est-ce que XML ?\n",
    "\n",
    "🌳 XML signifie *eXtensible Markup Language*\n",
    "\n",
    "🌳 XML est un **langage** de **balisage** générique. On le dit **extensible** car il propose une grammaire générale pour l'organisation du document, mais on peut créer ses propres noms de balises\n",
    "\n",
    "🌳 Comme HTML (Hypertext Markup Language), XML est un sous-ensemble du standard SGML (Standard Generalized Markup Language). Ces langages utilisent les chevrons (`<>`) pour former des balises.\n",
    "\n",
    "🌳 XML définit une syntaxe :\n",
    "   - une balise XML est écrite entre chevrons (`< nom_de_la_balise >`) et entoure généralement un contenu ;\n",
    "   - une balise **ouverte** (`<slide>`) doit donc être **fermée** (`</slide>`);\n",
    "   - une balise peut-être vide : `<nothing></nothing>`, ce qui peut aussi s'écrire : `<nothing/>`\n",
    "   - un commentaire est écrit entre `<!-- ... -->` ;"
   ]
  },
  {
   "cell_type": "markdown",
   "metadata": {
    "slideshow": {
     "slide_type": "subslide"
    }
   },
   "source": [
    "## XML : un exemple\n",
    "\n",
    "``` xml\n",
    "<slide>\n",
    "    <titre>Qu'est-ce que XML ?</titre>\n",
    "    <para>\n",
    "        <line n=\"001\">🌳 XML signifie <anglais>eXtensible Markup Language</anglais></line>\n",
    "        <line n=\"002\">🌳 XML est un <gras>langage</gras> de <gras>balisage</gras> générique. On le dit <gras>extensible</gras> car il propose une grammaire générale pour l'organisation du document, mais on peut créer ses propres noms de balises</line>\n",
    "    </para>\n",
    "</slide>            \n",
    "\n",
    "```\n",
    "\n",
    "---\n",
    "\n",
    "- `<slide>` est une **balise** ou un élément\n",
    "- `slide` est un **nom** de balise\n",
    "- \"Qu'est-ce que XML ?\" est le contenu de la balise \"titre\"\n",
    "- `n` est un **attribut** de la balise \"line\"\n",
    "- `001` est la **valeur** de l'attribut \"n\"\n"
   ]
  },
  {
   "cell_type": "markdown",
   "metadata": {
    "slideshow": {
     "slide_type": "subslide"
    }
   },
   "source": [
    "## XML et les standards \n",
    "\n",
    "🌳 XML ne définit pas de vocabulaire : il n'indique pas quel nom doit être donné à une balise : `<paragraph>`, `<paragraphe>`, `<para>`, `<para_ph>`, `<p>` sont tous des noms de balises valides ;\n",
    "\n",
    "🌳 Ce sont les `standards` qui définissent un vocabulaire (un ensemble de nom de balise) et des règles de compositions :\n",
    "   - [`XML TEI`](https://tei-c.org/about/) (*Text Encoding Initiative*) - description de documents textuels (1987)\n",
    "   - [`XML EAD`](https://www.loc.gov/ead/) (*Encoded Archival Description*) - description archivistique (1998)\n",
    "   - [`XML ALTO`](https://www.loc.gov/standards/alto/) (*Analysed Layout and Text Object*) - description de la mise en page et du contenu d'un texte transcrit automatiquement (2004)\n",
    "   - [`XML SVG`](https://www.w3.org/TR/SVG2/Overview.html) (*Scalable Vector Graphics*) - descriptions d'images vectorielles (1999)"
   ]
  },
  {
   "cell_type": "markdown",
   "metadata": {
    "slideshow": {
     "slide_type": "subslide"
    }
   },
   "source": [
    "## Concepts et outils\n",
    "\n",
    "🌳 Un fichier XML est plusieurs choses :\n",
    "   - un fichier de texte\n",
    "   - un arbre composé d'éléments hiérarchisés\n",
    "   - une base de données\n",
    "   \n",
    "🌳 Il existe plusieurs langages qui permettent d'interagir avec XML :\n",
    "   - `xPath` : formuler un chemin à l'intérieur d'un arbre XML ;\n",
    "   - `XSLT` : transformer un arbre XML en un autre arbre XML ou en HTML ;\n",
    "   - `xQuery` : permet de faire des requêtes dans une base XML ;"
   ]
  },
  {
   "cell_type": "markdown",
   "metadata": {
    "slideshow": {
     "slide_type": "subslide"
    }
   },
   "source": [
    "## Structure minimale obligatoire\n",
    "\n",
    "``` xml\n",
    "<?xml version=\"1.0\" encoding=\"UTF-8\"?>\n",
    "<TEI xmlns=\"http://www.tei-c.org/ns/1.0\">\n",
    "  <teiHeader>\n",
    "      <fileDesc>\n",
    "         <titleStmt>\n",
    "            <title>Title</title>\n",
    "         </titleStmt>\n",
    "         <publicationStmt>\n",
    "            <p>Publication Information</p>\n",
    "         </publicationStmt>\n",
    "         <sourceDesc>\n",
    "            <p>Information about the source</p>\n",
    "         </sourceDesc>\n",
    "      </fileDesc>\n",
    "  </teiHeader>\n",
    "  <text>\n",
    "      <body>\n",
    "         <p>Some text here.</p>\n",
    "      </body>\n",
    "  </text>\n",
    "</TEI>\n",
    "```"
   ]
  },
  {
   "cell_type": "markdown",
   "metadata": {
    "slideshow": {
     "slide_type": "subslide"
    }
   },
   "source": [
    "## Qu'annoter ?\n",
    "\n",
    "- Métadonnées dans la balise [`<teiHeader>`](https://www.tei-c.org/release/doc/tei-p5-doc/fr/html/ref-teiHeader.html)\n",
    "\n",
    "- Structure du texte (`<div>`, `<p>`, `<head>`, `<lb/>`, `<pb/>`, ...)\n",
    "\n",
    "- Entités ou informations spécifiques (`<date>`, `<placeName>`, ...)\n",
    "\n",
    "- Mise en forme (`<hi>`, ...)\n",
    "\n",
    "- Elements descriptifs (`<fw>`, ...)\n",
    "\n",
    "---\n",
    "\n",
    "➡️ exemple : [pont_mirabeau.xml](https://github.com/alix-tz/EDL_typo_doc/blob/main/tp/pont_mirabeau.xml)\n",
    "\n",
    "➡️ exemple : [edition numérique de correspondances, projet DAHN](https://github.com/FloChiff/DAHNProject/blob/master/Correspondence/Paul_d_Estournelles_de_Constant/Corpus/Lettre115_3janvier1916.xml)"
   ]
  }
 ],
 "metadata": {
  "celltoolbar": "Diaporama",
  "kernelspec": {
   "display_name": "Python 3",
   "language": "python",
   "name": "python3"
  },
  "language_info": {
   "codemirror_mode": {
    "name": "ipython",
    "version": 3
   },
   "file_extension": ".py",
   "mimetype": "text/x-python",
   "name": "python",
   "nbconvert_exporter": "python",
   "pygments_lexer": "ipython3",
   "version": "3.8.5"
  }
 },
 "nbformat": 4,
 "nbformat_minor": 4
}
